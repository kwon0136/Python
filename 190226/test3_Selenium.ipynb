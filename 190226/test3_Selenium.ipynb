{
  "nbformat": 4,
  "nbformat_minor": 0,
  "metadata": {
    "colab": {
      "name": "test3_Selenium.ipynb",
      "version": "0.3.2",
      "provenance": [],
      "include_colab_link": true
    },
    "language_info": {
      "codemirror_mode": {
        "name": "ipython",
        "version": 3
      },
      "file_extension": ".py",
      "mimetype": "text/x-python",
      "name": "python",
      "nbconvert_exporter": "python",
      "pygments_lexer": "ipython3",
      "version": "3.7.1"
    },
    "kernelspec": {
      "display_name": "Python 3",
      "language": "python",
      "name": "python3"
    }
  },
  "cells": [
    {
      "cell_type": "markdown",
      "metadata": {
        "id": "view-in-github",
        "colab_type": "text"
      },
      "source": [
        "<a href=\"https://colab.research.google.com/github/kwon0136/Python/blob/master/190226/test3_Selenium.ipynb\" target=\"_parent\"><img src=\"https://colab.research.google.com/assets/colab-badge.svg\" alt=\"Open In Colab\"/></a>"
      ]
    },
    {
      "metadata": {
        "id": "5dvd838whXOH",
        "colab_type": "code",
        "colab": {}
      },
      "cell_type": "code",
      "source": [
        "#!pip install selenium\n",
        "\n",
        "from selenium import webdriver\n",
        "driver = webdriver.Chrome(\"chromedriver.exe\")\n",
        "driver.get(\"http://www.naver.com\")\n",
        "driver.find_element_by_xpath('//*[@id=\"account\"]/div/a/i').click()\n",
        "userId = driver.find_element_by_xpath('//*[@id=\"id\"]')\n",
        "userId.clear()\n",
        "userId.send_keys(\"kwon0136\")\n",
        "userPwd = driver.find_element_by_xpath('//*[@id=\"pw\"]')\n",
        "userPwd.clear()\n",
        "userPwd.send_keys(\"Gksmfl2822@@\")\n",
        "driver.find_element_by_xpath('//*[@id=\"frmNIDLogin\"]/fieldset/input').click()"
      ],
      "execution_count": 0,
      "outputs": []
    }
  ]
}