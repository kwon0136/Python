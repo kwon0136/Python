{
  "nbformat": 4,
  "nbformat_minor": 0,
  "metadata": {
    "colab": {
      "name": "Test5.ipynb",
      "version": "0.3.2",
      "provenance": [],
      "include_colab_link": true
    },
    "language_info": {
      "codemirror_mode": {
        "name": "ipython",
        "version": 3
      },
      "file_extension": ".py",
      "mimetype": "text/x-python",
      "name": "python",
      "nbconvert_exporter": "python",
      "pygments_lexer": "ipython3",
      "version": "3.7.1"
    },
    "kernelspec": {
      "display_name": "Python 3",
      "language": "python",
      "name": "python3"
    }
  },
  "cells": [
    {
      "cell_type": "markdown",
      "metadata": {
        "id": "view-in-github",
        "colab_type": "text"
      },
      "source": [
        "<a href=\"https://colab.research.google.com/github/kwon0136/Python/blob/master/190226/Test5.ipynb\" target=\"_parent\"><img src=\"https://colab.research.google.com/assets/colab-badge.svg\" alt=\"Open In Colab\"/></a>"
      ]
    },
    {
      "metadata": {
        "id": "C7mD7uarhh45",
        "colab_type": "code",
        "colab": {}
      },
      "cell_type": "code",
      "source": [
        "# pip install selenium\n",
        "from selenium import webdriver\n",
        "driver = webdriver.Chrome(\"chromedriver.exe\")\n",
        "driver.get('http://ksp.multicampus.com/ksp/servlet/controller.gate.common.GateConstServlet?p_grcode=000002&p_ssochk=N&p_gubun=&p_ifsubj=&p_ifyear=&p_ifsubjseq=&p_ifdistcode=')\n",
        "driver.find_element_by_xpath('//*[@id=\"glovalWrap\"]/div/div[1]/ul/li[1]/a/img').click()\n",
        "\n",
        "# //*[@id=\"id\"]\n",
        "# //*[@id=\"pw\"]\n",
        "userId = driver.find_element_by_xpath('//*[@id=\"id\"]')\n",
        "userId.clear()\n",
        "userId.send_keys(\"dennis1945\")\n",
        "userPwd = driver.find_element_by_xpath('//*[@id=\"pw\"]')\n",
        "userPwd.clear()\n",
        "userPwd.send_keys(\"123\")\n",
        "driver.find_element_by_xpath('//*[@id=\"contents\"]/div[2]/div/div/form/fieldset/div[2]/button').click()\n",
        "\n"
      ],
      "execution_count": 0,
      "outputs": []
    },
    {
      "metadata": {
        "id": "nkimMVR1hh4_",
        "colab_type": "code",
        "colab": {}
      },
      "cell_type": "code",
      "source": [
        ""
      ],
      "execution_count": 0,
      "outputs": []
    },
    {
      "metadata": {
        "id": "UpD5L4JLhh5C",
        "colab_type": "code",
        "colab": {}
      },
      "cell_type": "code",
      "source": [
        ""
      ],
      "execution_count": 0,
      "outputs": []
    }
  ]
}