{
  "nbformat": 4,
  "nbformat_minor": 0,
  "metadata": {
    "colab": {
      "name": "test3.ipynb",
      "version": "0.3.2",
      "provenance": [],
      "include_colab_link": true
    },
    "kernelspec": {
      "display_name": "Python 3",
      "language": "python",
      "name": "python3"
    }
  },
  "cells": [
    {
      "cell_type": "markdown",
      "metadata": {
        "id": "view-in-github",
        "colab_type": "text"
      },
      "source": [
        "<a href=\"https://colab.research.google.com/github/kwon0136/Python/blob/master/190219/test3.ipynb\" target=\"_parent\"><img src=\"https://colab.research.google.com/assets/colab-badge.svg\" alt=\"Open In Colab\"/></a>"
      ]
    },
    {
      "metadata": {
        "id": "QirK4nC-39PZ",
        "colab_type": "code",
        "colab": {}
      },
      "cell_type": "code",
      "source": [
        "import csv\n",
        "f = open(\"seoul.csv\", encoding = 'utf-8')\n",
        "data = csv.reader(f)\n",
        "\n",
        "#for row in data:\n",
        "#    print(row[0], row[2])\n",
        "#서울 날씨의 평균기온\n",
        "sum = []\n",
        "count = 0\n",
        "for i in data:\n",
        "    #print(i)\n",
        "    count += 1\n",
        "    #print(count)\n",
        "\n",
        "for j in data:\n",
        "    #sum.append(i[2])\n",
        "    print(j[2])\n",
        "    "
      ],
      "execution_count": 0,
      "outputs": []
    },
    {
      "metadata": {
        "id": "DnzyRmnr39Pe",
        "colab_type": "code",
        "colab": {}
      },
      "cell_type": "code",
      "source": [
        "import csv\n",
        "f = open(\"seoul.csv\", encoding = 'utf-8')\n",
        "data = csv.reader(f)\n",
        "\n",
        "degree = []\n",
        "for i in data:\n",
        "    degree.append(i[2])\n",
        "    print(degree)\n",
        "    \n",
        "print(degree)"
      ],
      "execution_count": 0,
      "outputs": []
    },
    {
      "metadata": {
        "id": "clAtDflN39Pi",
        "colab_type": "code",
        "colab": {}
      },
      "cell_type": "code",
      "source": [
        "print(degree)"
      ],
      "execution_count": 0,
      "outputs": []
    },
    {
      "metadata": {
        "id": "rGCYe3np39Pm",
        "colab_type": "code",
        "colab": {},
        "outputId": "1af0bd80-9508-4a7f-d0d3-1b483c5a3f2a"
      },
      "cell_type": "code",
      "source": [
        "import csv\n",
        "f = open(\"seoul.csv\", encoding = 'utf-8')\n",
        "data = csv.reader(f)\n",
        "\n",
        "degree = []\n",
        "for i in data:\n",
        "    degree.append(i[2])\n",
        "    #print(degree)\n",
        "\n",
        "#print(len(degree))\n",
        "#print(degree)\n",
        "degree2 = 0\n",
        "for j in degree[1:len(degree)]:\n",
        "    dedree2 = degree2 + j\n",
        "print(degree2)"
      ],
      "execution_count": 0,
      "outputs": [
        {
          "output_type": "error",
          "ename": "TypeError",
          "evalue": "unsupported operand type(s) for +: 'int' and 'str'",
          "traceback": [
            "\u001b[1;31m---------------------------------------------------------------------------\u001b[0m",
            "\u001b[1;31mTypeError\u001b[0m                                 Traceback (most recent call last)",
            "\u001b[1;32m<ipython-input-7-bd2d895b49cc>\u001b[0m in \u001b[0;36m<module>\u001b[1;34m\u001b[0m\n\u001b[0;32m     12\u001b[0m \u001b[0mdegree2\u001b[0m \u001b[1;33m=\u001b[0m \u001b[1;36m0\u001b[0m\u001b[1;33m\u001b[0m\u001b[1;33m\u001b[0m\u001b[0m\n\u001b[0;32m     13\u001b[0m \u001b[1;32mfor\u001b[0m \u001b[0mj\u001b[0m \u001b[1;32min\u001b[0m \u001b[0mdegree\u001b[0m\u001b[1;33m[\u001b[0m\u001b[1;36m1\u001b[0m\u001b[1;33m:\u001b[0m\u001b[0mlen\u001b[0m\u001b[1;33m(\u001b[0m\u001b[0mdegree\u001b[0m\u001b[1;33m)\u001b[0m\u001b[1;33m]\u001b[0m\u001b[1;33m:\u001b[0m\u001b[1;33m\u001b[0m\u001b[1;33m\u001b[0m\u001b[0m\n\u001b[1;32m---> 14\u001b[1;33m     \u001b[0mdedree2\u001b[0m \u001b[1;33m=\u001b[0m \u001b[0mdegree2\u001b[0m \u001b[1;33m+\u001b[0m \u001b[0mj\u001b[0m\u001b[1;33m\u001b[0m\u001b[1;33m\u001b[0m\u001b[0m\n\u001b[0m\u001b[0;32m     15\u001b[0m \u001b[0mprint\u001b[0m\u001b[1;33m(\u001b[0m\u001b[0mdegree2\u001b[0m\u001b[1;33m)\u001b[0m\u001b[1;33m\u001b[0m\u001b[1;33m\u001b[0m\u001b[0m\n",
            "\u001b[1;31mTypeError\u001b[0m: unsupported operand type(s) for +: 'int' and 'str'"
          ]
        }
      ]
    },
    {
      "metadata": {
        "id": "JZr6Pvm939Ps",
        "colab_type": "code",
        "colab": {},
        "outputId": "46564c36-f4b3-4fe9-ccd2-947f279e50c7"
      },
      "cell_type": "code",
      "source": [
        "import csv\n",
        "f = open('seoul.csv', encoding = 'utf-8')\n",
        "data = csv.reader(f)\n",
        "\n",
        "temp = []\n",
        "for row in data:\n",
        "    temp.append(row[2])\n",
        "\n",
        "temp2 = 0\n",
        "for row in temp[1:]:\n",
        "    if row == '': continue\n",
        "    temp2 += float(row)\n",
        "print(temp2/len(temp[1:]))"
      ],
      "execution_count": 0,
      "outputs": [
        {
          "output_type": "stream",
          "text": [
            "11.484158761857177\n"
          ],
          "name": "stdout"
        }
      ]
    },
    {
      "metadata": {
        "id": "DPLqz-s039Pw",
        "colab_type": "code",
        "colab": {},
        "outputId": "a55a82b6-7378-490f-d735-1855993d4143"
      },
      "cell_type": "code",
      "source": [
        "#1995년 이전의 최고 기온\n",
        "\n",
        "import csv\n",
        "f = open('seoul.csv', encoding = 'utf-8')\n",
        "data = csv.reader(f)\n",
        "next(data)\n",
        "\n",
        "date = []\n",
        "for row in data:\n",
        "    if int(row[0][0:4]) < 1995:\n",
        "        date.append(row[-1])\n",
        "\n",
        "date2 = []\n",
        "for i in date:\n",
        "    if i == \"\": continue\n",
        "    date2.append(float(i))\n",
        "print(max(date2))"
      ],
      "execution_count": 0,
      "outputs": [
        {
          "output_type": "stream",
          "text": [
            "38.4\n"
          ],
          "name": "stdout"
        }
      ]
    },
    {
      "metadata": {
        "id": "oBkovMid39Pz",
        "colab_type": "code",
        "colab": {},
        "outputId": "7a392711-75c0-4e8b-d416-0fad5aa30188"
      },
      "cell_type": "code",
      "source": [
        "import csv\n",
        "f = open('seoul.csv', encoding = 'utf-8')\n",
        "data = csv.reader(f)\n",
        "next(data)\n",
        "\n",
        "max_temp = 0\n",
        "max_tempMdate = ''\n",
        "cnt = 0\n",
        "\n",
        "for row in data:\n",
        "    if row[-1] != '':\n",
        "        if(int(row[0].split(\"-\")[0]) < 1995 and float(row[-1]) > max_temp):\n",
        "            max_temp = float(row[-1])\n",
        "            max_temp_date = row[0]\n",
        "        \n",
        "print(max_temp, max_temp_date)\n",
        "\n",
        "#test_value = '1907-11-01'\n",
        "#print(test_value.split(\"-\")[0])"
      ],
      "execution_count": 0,
      "outputs": [
        {
          "output_type": "stream",
          "text": [
            "38.4 1994-07-24\n"
          ],
          "name": "stdout"
        }
      ]
    },
    {
      "metadata": {
        "id": "AJApeQ-N39P2",
        "colab_type": "code",
        "colab": {}
      },
      "cell_type": "code",
      "source": [
        ""
      ],
      "execution_count": 0,
      "outputs": []
    }
  ]
}