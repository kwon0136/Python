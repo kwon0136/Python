{
  "nbformat": 4,
  "nbformat_minor": 0,
  "metadata": {
    "colab": {
      "name": "test1.ipynb",
      "version": "0.3.2",
      "provenance": [],
      "include_colab_link": true
    },
    "kernelspec": {
      "display_name": "Python 3",
      "language": "python",
      "name": "python3"
    }
  },
  "cells": [
    {
      "cell_type": "markdown",
      "metadata": {
        "id": "view-in-github",
        "colab_type": "text"
      },
      "source": [
        "<a href=\"https://colab.research.google.com/github/kwon0136/Python/blob/master/190219/test1.ipynb\" target=\"_parent\"><img src=\"https://colab.research.google.com/assets/colab-badge.svg\" alt=\"Open In Colab\"/></a>"
      ]
    },
    {
      "metadata": {
        "id": "nQX9VJSv32b4",
        "colab_type": "code",
        "colab": {},
        "outputId": "c3656fad-c354-426f-c7ae-b59f239a02a2"
      },
      "cell_type": "code",
      "source": [
        "print(\"Hello\")"
      ],
      "execution_count": 0,
      "outputs": [
        {
          "output_type": "stream",
          "text": [
            "Hello\n"
          ],
          "name": "stdout"
        }
      ]
    },
    {
      "metadata": {
        "id": "xNZi_0wA32cC",
        "colab_type": "code",
        "colab": {},
        "outputId": "2e352c5e-772d-47c7-c1da-56357122e6e3"
      },
      "cell_type": "code",
      "source": [
        "name = \"이순신\"\n",
        "#print(name)\n",
        "name"
      ],
      "execution_count": 0,
      "outputs": [
        {
          "output_type": "execute_result",
          "data": {
            "text/plain": [
              "'이순신'"
            ]
          },
          "metadata": {
            "tags": []
          },
          "execution_count": 8
        }
      ]
    },
    {
      "metadata": {
        "id": "_XjF0FKO32cH",
        "colab_type": "code",
        "colab": {},
        "outputId": "4217d157-fbf8-46c2-a187-c34edd71dbcd"
      },
      "cell_type": "code",
      "source": [
        "name = input(\"입력 : \")\n",
        "print(name)"
      ],
      "execution_count": 0,
      "outputs": [
        {
          "output_type": "stream",
          "text": [
            "입력 : 홍길동\n",
            "홍길동\n"
          ],
          "name": "stdout"
        }
      ]
    },
    {
      "metadata": {
        "id": "60MvMYYg32cK",
        "colab_type": "code",
        "colab": {},
        "outputId": "874b8a3b-39f4-42ea-95b0-6393ac59fae2"
      },
      "cell_type": "code",
      "source": [
        "name = input(\"이름을 입력해주세요 : \")\n",
        "age = input(\"나이를 입력해주세요 : \")\n",
        "print(\"%s, %s\" %(name, age))"
      ],
      "execution_count": 0,
      "outputs": [
        {
          "output_type": "stream",
          "text": [
            "이름을 입력해주세요 : 이순신\n",
            "나이를 입력해주세요 : 20\n",
            "이순신, 20\n"
          ],
          "name": "stdout"
        }
      ]
    },
    {
      "metadata": {
        "id": "5M23vgXp32cO",
        "colab_type": "code",
        "colab": {},
        "outputId": "01be4a36-a6ee-4c3e-b992-33b26da72977"
      },
      "cell_type": "code",
      "source": [
        "#산술연산자\n",
        "print(3 +10)\n",
        "print(3 ** 10)\n",
        "print(3 % 10)\n",
        "print(3 / 2)"
      ],
      "execution_count": 0,
      "outputs": [
        {
          "output_type": "stream",
          "text": [
            "13\n",
            "59049\n",
            "3\n",
            "1.5\n"
          ],
          "name": "stdout"
        }
      ]
    },
    {
      "metadata": {
        "id": "aAfnDUzJ32cR",
        "colab_type": "code",
        "colab": {},
        "outputId": "1785f10e-b4ac-4894-d8d0-f977332d2235"
      },
      "cell_type": "code",
      "source": [
        "#비교연산자\n",
        "print(10 >= 3)\n",
        "print(10 <= 3)\n",
        "print(10 == 3)\n",
        "print(10 != 3)\n",
        "print(3 % 2 == 1)"
      ],
      "execution_count": 0,
      "outputs": [
        {
          "output_type": "stream",
          "text": [
            "True\n",
            "False\n",
            "False\n",
            "True\n",
            "True\n"
          ],
          "name": "stdout"
        }
      ]
    },
    {
      "metadata": {
        "id": "3cIgxqsn32cU",
        "colab_type": "code",
        "colab": {},
        "outputId": "daeafdce-e818-43a6-c962-c47ed7904ee5"
      },
      "cell_type": "code",
      "source": [
        "#논리연산자\n",
        "print(1 == 1 and 2 != 1)\n",
        "print(10 % 2 != 0 and 1 + 1 > 0)\n",
        "print(10 % 2 != 0 or 1 + 1 > 0)\n",
        "print(not True)\n",
        "print(not 0)"
      ],
      "execution_count": 0,
      "outputs": [
        {
          "output_type": "stream",
          "text": [
            "True\n",
            "False\n",
            "True\n",
            "False\n",
            "True\n"
          ],
          "name": "stdout"
        }
      ]
    },
    {
      "metadata": {
        "id": "TqbMO3Pu32cY",
        "colab_type": "code",
        "colab": {},
        "outputId": "c394ed03-6bc3-4646-fa4e-0ef22a86fbb0"
      },
      "cell_type": "code",
      "source": [
        "import random\n",
        "print(random.randint(1,6))"
      ],
      "execution_count": 0,
      "outputs": [
        {
          "output_type": "stream",
          "text": [
            "5\n"
          ],
          "name": "stdout"
        }
      ]
    },
    {
      "metadata": {
        "id": "tXPOjUrg32cb",
        "colab_type": "code",
        "colab": {},
        "outputId": "0268257a-030e-4fc0-afeb-ac71611e0578"
      },
      "cell_type": "code",
      "source": [
        "for name in [1,2,3,4]:\n",
        "    print(name)"
      ],
      "execution_count": 0,
      "outputs": [
        {
          "output_type": "stream",
          "text": [
            "1\n",
            "2\n",
            "3\n",
            "4\n"
          ],
          "name": "stdout"
        }
      ]
    },
    {
      "metadata": {
        "id": "r1f7si4V32cf",
        "colab_type": "code",
        "colab": {},
        "outputId": "a7041b3c-60e2-440f-be38-8c58cb864dc7"
      },
      "cell_type": "code",
      "source": [
        "for i in range(0, 10):\n",
        "    print(i)"
      ],
      "execution_count": 0,
      "outputs": [
        {
          "output_type": "stream",
          "text": [
            "0\n",
            "1\n",
            "2\n",
            "3\n",
            "4\n",
            "5\n",
            "6\n",
            "7\n",
            "8\n",
            "9\n"
          ],
          "name": "stdout"
        }
      ]
    },
    {
      "metadata": {
        "id": "hLVgE8e732ci",
        "colab_type": "code",
        "colab": {},
        "outputId": "3b7e1d99-e03d-4211-c65c-b506946d9793"
      },
      "cell_type": "code",
      "source": [
        "for i in range(2, 10):\n",
        "    for j in range(1, 10):\n",
        "        print(\"%d X %d = %d\" %(i,j, i*j))"
      ],
      "execution_count": 0,
      "outputs": [
        {
          "output_type": "stream",
          "text": [
            "2 X 1 = 2\n",
            "2 X 2 = 4\n",
            "2 X 3 = 6\n",
            "2 X 4 = 8\n",
            "2 X 5 = 10\n",
            "2 X 6 = 12\n",
            "2 X 7 = 14\n",
            "2 X 8 = 16\n",
            "2 X 9 = 18\n",
            "3 X 1 = 3\n",
            "3 X 2 = 6\n",
            "3 X 3 = 9\n",
            "3 X 4 = 12\n",
            "3 X 5 = 15\n",
            "3 X 6 = 18\n",
            "3 X 7 = 21\n",
            "3 X 8 = 24\n",
            "3 X 9 = 27\n",
            "4 X 1 = 4\n",
            "4 X 2 = 8\n",
            "4 X 3 = 12\n",
            "4 X 4 = 16\n",
            "4 X 5 = 20\n",
            "4 X 6 = 24\n",
            "4 X 7 = 28\n",
            "4 X 8 = 32\n",
            "4 X 9 = 36\n",
            "5 X 1 = 5\n",
            "5 X 2 = 10\n",
            "5 X 3 = 15\n",
            "5 X 4 = 20\n",
            "5 X 5 = 25\n",
            "5 X 6 = 30\n",
            "5 X 7 = 35\n",
            "5 X 8 = 40\n",
            "5 X 9 = 45\n",
            "6 X 1 = 6\n",
            "6 X 2 = 12\n",
            "6 X 3 = 18\n",
            "6 X 4 = 24\n",
            "6 X 5 = 30\n",
            "6 X 6 = 36\n",
            "6 X 7 = 42\n",
            "6 X 8 = 48\n",
            "6 X 9 = 54\n",
            "7 X 1 = 7\n",
            "7 X 2 = 14\n",
            "7 X 3 = 21\n",
            "7 X 4 = 28\n",
            "7 X 5 = 35\n",
            "7 X 6 = 42\n",
            "7 X 7 = 49\n",
            "7 X 8 = 56\n",
            "7 X 9 = 63\n",
            "8 X 1 = 8\n",
            "8 X 2 = 16\n",
            "8 X 3 = 24\n",
            "8 X 4 = 32\n",
            "8 X 5 = 40\n",
            "8 X 6 = 48\n",
            "8 X 7 = 56\n",
            "8 X 8 = 64\n",
            "8 X 9 = 72\n",
            "9 X 1 = 9\n",
            "9 X 2 = 18\n",
            "9 X 3 = 27\n",
            "9 X 4 = 36\n",
            "9 X 5 = 45\n",
            "9 X 6 = 54\n",
            "9 X 7 = 63\n",
            "9 X 8 = 72\n",
            "9 X 9 = 81\n"
          ],
          "name": "stdout"
        }
      ]
    },
    {
      "metadata": {
        "id": "eB0YBhZW32cl",
        "colab_type": "code",
        "colab": {},
        "outputId": "ec8276d6-055f-43ea-cf6a-a94f1a81b384"
      },
      "cell_type": "code",
      "source": [
        "name = \"john\"\n",
        "for s in name:\n",
        "    print(s)"
      ],
      "execution_count": 0,
      "outputs": [
        {
          "output_type": "stream",
          "text": [
            "j\n",
            "o\n",
            "h\n",
            "n\n"
          ],
          "name": "stdout"
        }
      ]
    },
    {
      "metadata": {
        "id": "YZppH1-k32co",
        "colab_type": "code",
        "colab": {},
        "outputId": "9135ca63-5b9f-44cf-a774-59c29d424446"
      },
      "cell_type": "code",
      "source": [
        "a = 0\n",
        "while a < 100:\n",
        "    print(a, end=\" \")\n",
        "    a += 1"
      ],
      "execution_count": 0,
      "outputs": [
        {
          "output_type": "stream",
          "text": [
            "0 1 2 3 4 5 6 7 8 9 10 11 12 13 14 15 16 17 18 19 20 21 22 23 24 25 26 27 28 29 30 31 32 33 34 35 36 37 38 39 40 41 42 43 44 45 46 47 48 49 50 51 52 53 54 55 56 57 58 59 60 61 62 63 64 65 66 67 68 69 70 71 72 73 74 75 76 77 78 79 80 81 82 83 84 85 86 87 88 89 90 91 92 93 94 95 96 97 98 99 "
          ],
          "name": "stdout"
        }
      ]
    },
    {
      "metadata": {
        "id": "G2i9342p32cv",
        "colab_type": "code",
        "colab": {},
        "outputId": "77e069b3-3f04-40bb-fc8f-c2b468032930"
      },
      "cell_type": "code",
      "source": [
        "names = ['인천', '송도', '연수', '남동']\n",
        "print(names)\n",
        "names.append('동추')\n",
        "print(names)\n",
        "print(len(names))\n",
        "print(names[0], names[3])\n",
        "print(names[-1])\n",
        "print(names[1:3])\n",
        "print(names[:])"
      ],
      "execution_count": 0,
      "outputs": [
        {
          "output_type": "stream",
          "text": [
            "['인천', '송도', '연수', '남동']\n",
            "['인천', '송도', '연수', '남동', '동추']\n",
            "5\n",
            "인천 남동\n",
            "동추\n",
            "['송도', '연수']\n",
            "['인천', '송도', '연수', '남동', '동추']\n"
          ],
          "name": "stdout"
        }
      ]
    },
    {
      "metadata": {
        "id": "jXr3RuGC32cz",
        "colab_type": "code",
        "colab": {},
        "outputId": "1c0fb508-7da5-470d-c865-f994aa5d1f74"
      },
      "cell_type": "code",
      "source": [
        "names = ('이순신', '강감찬', '권율')\n",
        "print(names[0])"
      ],
      "execution_count": 0,
      "outputs": [
        {
          "output_type": "stream",
          "text": [
            "이순신\n"
          ],
          "name": "stdout"
        }
      ]
    },
    {
      "metadata": {
        "id": "7sw3WSjB32c3",
        "colab_type": "code",
        "colab": {},
        "outputId": "2adc8bf4-a530-4f13-b406-a715de3be6cb"
      },
      "cell_type": "code",
      "source": [
        "print(names)"
      ],
      "execution_count": 0,
      "outputs": [
        {
          "output_type": "stream",
          "text": [
            "('이순신', '강감찬', '권율')\n"
          ],
          "name": "stdout"
        }
      ]
    },
    {
      "metadata": {
        "id": "M0wQV60632c6",
        "colab_type": "code",
        "colab": {}
      },
      "cell_type": "code",
      "source": [
        "#del names[0]"
      ],
      "execution_count": 0,
      "outputs": []
    },
    {
      "metadata": {
        "id": "ZpW0eO-w32c9",
        "colab_type": "code",
        "colab": {},
        "outputId": "6896ca23-51c9-437e-c866-311816d767b9"
      },
      "cell_type": "code",
      "source": [
        "menus = {'카페라떼':2500, '아이스라떼':3000, '핫초코':2000}\n",
        "print(menus)\n",
        "print(menus['카페라떼'])\n"
      ],
      "execution_count": 0,
      "outputs": [
        {
          "output_type": "stream",
          "text": [
            "{'카페라떼': 2500, '아이스라떼': 3000, '핫초코': 2000}\n",
            "2500\n"
          ],
          "name": "stdout"
        }
      ]
    },
    {
      "metadata": {
        "id": "v21H0ipQ32dA",
        "colab_type": "code",
        "colab": {},
        "outputId": "bd656a00-20e0-4179-826a-ef99b4f359d9"
      },
      "cell_type": "code",
      "source": [
        "menu = input(\"원하는 메뉴 입력 : \")\n",
        "print(menus[menu])"
      ],
      "execution_count": 0,
      "outputs": [
        {
          "output_type": "stream",
          "text": [
            "원하는 메뉴 입력 : 아이스라떼\n",
            "3000\n"
          ],
          "name": "stdout"
        }
      ]
    },
    {
      "metadata": {
        "id": "am3U1xEC32dD",
        "colab_type": "code",
        "colab": {}
      },
      "cell_type": "code",
      "source": [
        ""
      ],
      "execution_count": 0,
      "outputs": []
    }
  ]
}