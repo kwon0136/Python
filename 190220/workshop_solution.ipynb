{
  "nbformat": 4,
  "nbformat_minor": 0,
  "metadata": {
    "colab": {
      "name": "workshop_solution.ipynb",
      "version": "0.3.2",
      "provenance": [],
      "include_colab_link": true
    },
    "kernelspec": {
      "display_name": "Python 3",
      "language": "python",
      "name": "python3"
    }
  },
  "cells": [
    {
      "cell_type": "markdown",
      "metadata": {
        "id": "view-in-github",
        "colab_type": "text"
      },
      "source": [
        "<a href=\"https://colab.research.google.com/github/kwon0136/Python/blob/master/190220/workshop_solution.ipynb\" target=\"_parent\"><img src=\"https://colab.research.google.com/assets/colab-badge.svg\" alt=\"Open In Colab\"/></a>"
      ]
    },
    {
      "metadata": {
        "scrolled": false,
        "id": "97TEaFgvmDFE",
        "colab_type": "code",
        "colab": {},
        "outputId": "723a355f-08e7-44cf-e2b9-4034e45449f6"
      },
      "cell_type": "code",
      "source": [
        "import numpy as np\n",
        "data = np.loadtxt(fname=\"village_population.csv\",\n",
        "                 encoding=\"utf-8\", dtype=np.str,\n",
        "                 delimiter=\",\", usecols=range(0,104))\n",
        "\n",
        "# 전체 나이별 인구수 총명수(평균)을 구하고 그래프로 출력하시오.\n",
        "# 1 ~ 100세 \n",
        "data2 = data[1:, 3:]\n",
        "data3 = data2.astype(np.int)\n",
        "\n",
        "result = []\n",
        "for i in range(0, 101):\n",
        "    result.append(data3[0:,i].sum())\n",
        "\n",
        "#print(result)\n",
        "\n",
        "\n",
        "\n",
        "\n",
        "#data3[0:, 1]\n",
        "#data3[0:, 2]\n",
        "#data3.dtype\n",
        "#result = []\n",
        "#for i in range(0, 101):\n",
        "#    result.append()\n",
        "\n",
        "#data2 = data[1:, 3:]\n",
        "#data2\n",
        "\n"
      ],
      "execution_count": 0,
      "outputs": [
        {
          "output_type": "stream",
          "text": [
            "[1153448, 1305758, 1412882, 1401610, 1406160, 1560793, 1518630, 1510763, 1429930, 1496473, 1583170, 1436346, 1394230, 1515712, 1577680, 1581833, 1787832, 2043409, 1979155, 2041379, 2140847, 2185962, 2256957, 2275106, 2263555, 2311018, 2239020, 2040514, 2010769, 1994990, 1968067, 1999511, 2080172, 2108916, 2384803, 2620287, 2679233, 2668541, 2639102, 2303708, 2486410, 2434380, 2522944, 2741131, 2854436, 2856283, 3010409, 2931177, 2949355, 2952918, 2745441, 2597293, 2708426, 2649265, 2517680, 2793738, 2894576, 2917444, 2688176, 2453096, 2425905, 2186752, 2260224, 1918462, 1653982, 1822325, 1324244, 1408845, 1419856, 1404889, 1411759, 1120432, 994343, 1054334, 1052068, 1280333, 1042020, 909294, 922626, 817059, 741814, 678753, 629273, 540692, 446484, 396386, 313627, 274788, 238085, 193956, 155704, 109671, 88772, 64951, 61941, 45924, 30165, 21712, 15135, 10309, 55529]\n"
          ],
          "name": "stdout"
        }
      ]
    }
  ]
}