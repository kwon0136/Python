{
  "nbformat": 4,
  "nbformat_minor": 0,
  "metadata": {
    "colab": {
      "name": "workshop.ipynb",
      "version": "0.3.2",
      "provenance": [],
      "include_colab_link": true
    },
    "kernelspec": {
      "display_name": "Python 3",
      "language": "python",
      "name": "python3"
    }
  },
  "cells": [
    {
      "cell_type": "markdown",
      "metadata": {
        "id": "view-in-github",
        "colab_type": "text"
      },
      "source": [
        "<a href=\"https://colab.research.google.com/github/kwon0136/Python/blob/master/190220/workshop.ipynb\" target=\"_parent\"><img src=\"https://colab.research.google.com/assets/colab-badge.svg\" alt=\"Open In Colab\"/></a>"
      ]
    },
    {
      "metadata": {
        "id": "eYVKn-Exl1mH",
        "colab_type": "code",
        "colab": {},
        "outputId": "2a2e938d-d44e-4b69-cd64-9312d05c09ae"
      },
      "cell_type": "code",
      "source": [
        "#전체 나이별 인구수 평균을 구하고 그래프 출력\n",
        "import numpy as np\n",
        "data = np.loadtxt(fname='village_population.csv', encoding='utf-8', dtype=np.str, delimiter=',', usecols=range(3,104))\n",
        "\n",
        "age_mean = np.array(data)\n",
        "age_mean3 = age_mean[1:]\n",
        "age_mean4 = age_mean3.astype(np.int)\n",
        "\n",
        "#print(age_mean)\n",
        "age_mean.shape\n",
        "\n",
        "#print(type(age_mean4[0][0]))\n",
        "#for i in range(3829):\n",
        "#    age_mean2 = age_mean2[i]+age_mean4[i][0]\n",
        "#a=[]\n",
        "#age_mean2 = []\n",
        "#age_mean4.shape\n",
        "#for i in range(101):\n",
        "#    for j in range(3829):\n",
        "#        age_mean[j][i].sum()\n",
        "        \n",
        "        "
      ],
      "execution_count": 0,
      "outputs": [
        {
          "output_type": "execute_result",
          "data": {
            "text/plain": [
              "(3830, 101)"
            ]
          },
          "metadata": {
            "tags": []
          },
          "execution_count": 56
        }
      ]
    },
    {
      "metadata": {
        "id": "qeUWn3uIl1mZ",
        "colab_type": "code",
        "colab": {}
      },
      "cell_type": "code",
      "source": [
        "import numpy as np\n",
        "data = np.loadtxt(fname='village_population.csv', encoding='utf-8', dtype=np.str, delimiter=',', usecols=range(0,104))\n",
        "\n",
        "data2 = data[1:,3:]\n",
        "data3 = data2.astype(np.int)\n",
        "\n",
        "result = []\n",
        "for i in range(0,101):\n",
        "    "
      ],
      "execution_count": 0,
      "outputs": []
    }
  ]
}