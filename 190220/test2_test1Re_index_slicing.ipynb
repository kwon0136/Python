{
  "nbformat": 4,
  "nbformat_minor": 0,
  "metadata": {
    "colab": {
      "name": "test2_test1Re_index_slicing.ipynb",
      "version": "0.3.2",
      "provenance": [],
      "include_colab_link": true
    },
    "kernelspec": {
      "display_name": "Python 3",
      "language": "python",
      "name": "python3"
    }
  },
  "cells": [
    {
      "cell_type": "markdown",
      "metadata": {
        "id": "view-in-github",
        "colab_type": "text"
      },
      "source": [
        "<a href=\"https://colab.research.google.com/github/kwon0136/Python/blob/master/190220/test2_test1Re_index_slicing.ipynb\" target=\"_parent\"><img src=\"https://colab.research.google.com/assets/colab-badge.svg\" alt=\"Open In Colab\"/></a>"
      ]
    },
    {
      "metadata": {
        "id": "FpFj98iElreB",
        "colab_type": "code",
        "colab": {},
        "outputId": "4bfae8c2-4745-4801-facc-dc27ab622adf"
      },
      "cell_type": "code",
      "source": [
        "import numpy as np\n",
        "\n",
        "a = np.array([1,2,3])\n",
        "print(a)\n",
        "a1 = np.array((1,2,3))\n",
        "print(a)\n",
        "a2 = np.array([1,2,3], dtype=np.float)\n",
        "print(a2)\n",
        "print(a2.dtype)\n",
        "a3 = np.zeros((3,3))\n",
        "print(a3)\n",
        "print(a3.ndim)\n",
        "a4 = np.zeros((3,3,3))\n",
        "print(a4)\n",
        "print(a4.ndim)\n",
        "a5 = np.empty((2,3))\n",
        "print(a5)\n",
        "a5.shape = (3,2)\n",
        "print(a5)\n",
        "print(a5.shape)"
      ],
      "execution_count": 0,
      "outputs": [
        {
          "output_type": "stream",
          "text": [
            "[1 2 3]\n",
            "[1 2 3]\n",
            "[1. 2. 3.]\n",
            "float64\n",
            "[[0. 0. 0.]\n",
            " [0. 0. 0.]\n",
            " [0. 0. 0.]]\n",
            "2\n",
            "[[[0. 0. 0.]\n",
            "  [0. 0. 0.]\n",
            "  [0. 0. 0.]]\n",
            "\n",
            " [[0. 0. 0.]\n",
            "  [0. 0. 0.]\n",
            "  [0. 0. 0.]]\n",
            "\n",
            " [[0. 0. 0.]\n",
            "  [0. 0. 0.]\n",
            "  [0. 0. 0.]]]\n",
            "3\n",
            "[[0. 0. 0.]\n",
            " [0. 0. 0.]]\n",
            "[[0. 0.]\n",
            " [0. 0.]\n",
            " [0. 0.]]\n",
            "(3, 2)\n"
          ],
          "name": "stdout"
        }
      ]
    },
    {
      "metadata": {
        "id": "q_ysp_Qylred",
        "colab_type": "code",
        "colab": {},
        "outputId": "4e7e61ac-c62e-4404-a71f-eda21e931930"
      },
      "cell_type": "code",
      "source": [
        "#Index, Slicing --> python과 거의 동일\n",
        "import numpy as np\n",
        "\n",
        "a = np.arange(10)\n",
        "#for i in range(1,10):\n",
        "#    print(a[i])\n",
        "a[2:]\n",
        "a[0:2]\n",
        "a[:3]\n",
        "a[2:5]"
      ],
      "execution_count": 0,
      "outputs": [
        {
          "output_type": "execute_result",
          "data": {
            "text/plain": [
              "array([2, 3, 4])"
            ]
          },
          "metadata": {
            "tags": []
          },
          "execution_count": 17
        }
      ]
    },
    {
      "metadata": {
        "id": "Zhetp3zPlreo",
        "colab_type": "code",
        "colab": {},
        "outputId": "001c7bf9-10f8-453d-fbc2-0829f9bda6dc"
      },
      "cell_type": "code",
      "source": [
        "import numpy as np\n",
        "\n",
        "a = np.array([[1,2,3],[4,5,6],[7,8,9]])\n",
        "print(a.ndim)\n",
        "print(a.shape)\n",
        "print(a.dtype)\n",
        "a[0]\n",
        "print(a[0:2])\n",
        "print(a[0,2])\n",
        "print(a[:,0]) # a의 모든 index의 index[0]값을 가져온다 ex.[1,2,3][0] == [1] / [4,5,6][0] == [4]\n",
        "print(a[0:2,1:]) # a[0]부터 a[1]의 index[1:]값을 가져온다. ex. [1,2,3][1:] == [2,3]\n",
        "a[0,1:2] = 100\n",
        "print(a)"
      ],
      "execution_count": 0,
      "outputs": [
        {
          "output_type": "stream",
          "text": [
            "2\n",
            "(3, 3)\n",
            "int32\n",
            "[[1 2 3]\n",
            " [4 5 6]]\n",
            "3\n",
            "[1 4 7]\n",
            "[[2 3]\n",
            " [5 6]]\n",
            "[[  1 100   3]\n",
            " [  4   5   6]\n",
            " [  7   8   9]]\n"
          ],
          "name": "stdout"
        }
      ]
    },
    {
      "metadata": {
        "id": "a4Z1FsSvlrey",
        "colab_type": "code",
        "colab": {},
        "outputId": "c5736ba5-a85d-4f03-d2a3-9d58bd7f354d"
      },
      "cell_type": "code",
      "source": [
        "import numpy as np\n",
        "\n",
        "a = np.array([[0,1,2],[3,4,5],[6,7,8],[9,10,11]])\n",
        "a.shape\n",
        "a.ndim\n",
        "a[1:4]\n",
        "a[1:4,1:3]"
      ],
      "execution_count": 0,
      "outputs": [
        {
          "output_type": "execute_result",
          "data": {
            "text/plain": [
              "array([[ 4,  5],\n",
              "       [ 7,  8],\n",
              "       [10, 11]])"
            ]
          },
          "metadata": {
            "tags": []
          },
          "execution_count": 32
        }
      ]
    },
    {
      "metadata": {
        "id": "yc3f1Coblre8",
        "colab_type": "code",
        "colab": {},
        "outputId": "bc5b368b-7c97-4886-9790-6aa6267a2afa"
      },
      "cell_type": "code",
      "source": [
        "import numpy as np\n",
        "data = np.loadtxt(fname=\"village_population.csv\", encoding=\"utf-8\", dtype=np.str, delimiter=\",\", usecols=range(0,104))\n",
        "type(data)\n",
        "data.shape\n",
        "data[0]\n",
        "data[1]\n",
        "data[:,0]"
      ],
      "execution_count": 0,
      "outputs": [
        {
          "output_type": "execute_result",
          "data": {
            "text/plain": [
              "array(['\\ufeff행정구역', '서울특별시  (1100000000)', '서울특별시 종로구 (1111000000)', ...,\n",
              "       '제주특별자치도 서귀포시 대천동(5013060000)', '제주특별자치도 서귀포시 중문동(5013061000)',\n",
              "       '제주특별자치도 서귀포시 예래동(5013062000)'], dtype='<U34')"
            ]
          },
          "metadata": {
            "tags": []
          },
          "execution_count": 44
        }
      ]
    },
    {
      "metadata": {
        "id": "-weeK81blrfG",
        "colab_type": "code",
        "colab": {},
        "outputId": "689f24d3-ddfe-4e96-dab5-93e646b9d494"
      },
      "cell_type": "code",
      "source": [
        "data2 = data[1:,:]\n",
        "data2.shape"
      ],
      "execution_count": 0,
      "outputs": [
        {
          "output_type": "execute_result",
          "data": {
            "text/plain": [
              "(3829, 104)"
            ]
          },
          "metadata": {
            "tags": []
          },
          "execution_count": 45
        }
      ]
    },
    {
      "metadata": {
        "id": "JuGvz_mTlrfS",
        "colab_type": "code",
        "colab": {}
      },
      "cell_type": "code",
      "source": [
        ""
      ],
      "execution_count": 0,
      "outputs": []
    },
    {
      "metadata": {
        "id": "86j1HGqalrfa",
        "colab_type": "code",
        "colab": {}
      },
      "cell_type": "code",
      "source": [
        ""
      ],
      "execution_count": 0,
      "outputs": []
    },
    {
      "metadata": {
        "id": "4qjk1Qn8lrfi",
        "colab_type": "code",
        "colab": {}
      },
      "cell_type": "code",
      "source": [
        ""
      ],
      "execution_count": 0,
      "outputs": []
    },
    {
      "metadata": {
        "id": "1U3jWRcdlrfp",
        "colab_type": "code",
        "colab": {}
      },
      "cell_type": "code",
      "source": [
        ""
      ],
      "execution_count": 0,
      "outputs": []
    },
    {
      "metadata": {
        "id": "4jWm7oN-lrfw",
        "colab_type": "code",
        "colab": {}
      },
      "cell_type": "code",
      "source": [
        ""
      ],
      "execution_count": 0,
      "outputs": []
    },
    {
      "metadata": {
        "id": "Q9qeJKJqlrf3",
        "colab_type": "code",
        "colab": {}
      },
      "cell_type": "code",
      "source": [
        ""
      ],
      "execution_count": 0,
      "outputs": []
    },
    {
      "metadata": {
        "id": "pbDVeLz7lrf-",
        "colab_type": "code",
        "colab": {}
      },
      "cell_type": "code",
      "source": [
        ""
      ],
      "execution_count": 0,
      "outputs": []
    },
    {
      "metadata": {
        "id": "gr5TWGO-lrgI",
        "colab_type": "code",
        "colab": {}
      },
      "cell_type": "code",
      "source": [
        ""
      ],
      "execution_count": 0,
      "outputs": []
    }
  ]
}