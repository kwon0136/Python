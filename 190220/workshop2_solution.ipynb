{
  "nbformat": 4,
  "nbformat_minor": 0,
  "metadata": {
    "colab": {
      "name": "workshop2_solution.ipynb",
      "version": "0.3.2",
      "provenance": [],
      "include_colab_link": true
    },
    "kernelspec": {
      "display_name": "Python 3",
      "language": "python",
      "name": "python3"
    }
  },
  "cells": [
    {
      "cell_type": "markdown",
      "metadata": {
        "id": "view-in-github",
        "colab_type": "text"
      },
      "source": [
        "<a href=\"https://colab.research.google.com/github/kwon0136/Python/blob/master/190220/workshop2_solution.ipynb\" target=\"_parent\"><img src=\"https://colab.research.google.com/assets/colab-badge.svg\" alt=\"Open In Colab\"/></a>"
      ]
    },
    {
      "metadata": {
        "scrolled": false,
        "id": "UvLINljvl9EC",
        "colab_type": "code",
        "colab": {},
        "outputId": "ba1fd70f-c30b-4a22-fdc2-903e84a4af04"
      },
      "cell_type": "code",
      "source": [
        "# data.go.kr 건강검진결과중에서 키를 구간별 나타내는 로직을 구현하고 \n",
        "# matplotlib로 plot을 구현하시오.\n",
        "import numpy as np\n",
        "data = np.loadtxt(fname=\"NHIS_OPEN_GJ_2016.csv\", dtype=np.str,\n",
        "                 delimiter=\",\", usecols=range(0,7))\n",
        "count1 = 0 \n",
        "count2 = 0\n",
        "count3 = 0 \n",
        "count4 = 0 \n",
        "count5 = 0\n",
        "count6 = 0\n",
        "for row in data[1:,5]:\n",
        "    if row != '':\n",
        "        if int(row) >= 150 and int(row) < 155: # 150 ~ 155\n",
        "            count1 += 1\n",
        "        if int(row) >= 155 and int(row) < 160: # 155 ~ 160\n",
        "            count2 += 1\n",
        "        if int(row) >= 160 and int(row) > 165: # 160 ~ 165\n",
        "            count3 += 1\n",
        "        if int(row) >= 165 and int(row) < 170: # 165 ~ 170\n",
        "            count4 += 1\n",
        "        if int(row) >= 170 and int(row) < 175: # 170 ~ 175\n",
        "            count5 += 1\n",
        "        if int(row) >= 175 and int(row) < 180: # 175 ~ 180      \n",
        "            count6 += 1\n",
        "            \n",
        "result = [count1, count2, count3, count4, count5, count6]\n",
        "title = ['150~155', '155~ 160', '160~165', '165~170', \n",
        "         '170~175', '175~180']\n",
        "\n",
        "print(result)\n",
        "\n",
        "import matplotlib.pyplot as plt\n",
        "plt.plot(title, result)\n",
        "plt.show()\n",
        "\n",
        "\n",
        "# [105947, 164270, 317315, 178917, 168506, 101894]\n",
        "result = [105947, 164270, 317315, 178917, 168506, 101894]\n",
        "title = ['150~155', '155~ 160', '160~165', '165~170', '170~175', '175~180']\n",
        "\n",
        "import matplotlib.pyplot as plt\n",
        "#plt.hist(result)\n",
        "plt.bar(title, result)\n",
        "plt.show()\n"
      ],
      "execution_count": 0,
      "outputs": [
        {
          "output_type": "stream",
          "text": [
            "[105947, 164270, 317315, 178917, 168506, 101894]\n"
          ],
          "name": "stdout"
        },
        {
          "output_type": "display_data",
          "data": {
            "image/png": "[encoded data removed]",
            "text/plain": [
              "<Figure size 432x288 with 1 Axes>"
            ]
          },
          "metadata": {
            "tags": [],
            "needs_background": "light"
          }
        }
      ]
    }
  ]
}