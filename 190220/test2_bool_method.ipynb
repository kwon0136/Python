{
  "nbformat": 4,
  "nbformat_minor": 0,
  "metadata": {
    "colab": {
      "name": "test2_bool_method.ipynb",
      "version": "0.3.2",
      "provenance": [],
      "include_colab_link": true
    },
    "kernelspec": {
      "display_name": "Python 3",
      "language": "python",
      "name": "python3"
    }
  },
  "cells": [
    {
      "cell_type": "markdown",
      "metadata": {
        "id": "view-in-github",
        "colab_type": "text"
      },
      "source": [
        "<a href=\"https://colab.research.google.com/github/kwon0136/Python/blob/master/190220/test2_bool_method.ipynb\" target=\"_parent\"><img src=\"https://colab.research.google.com/assets/colab-badge.svg\" alt=\"Open In Colab\"/></a>"
      ]
    },
    {
      "metadata": {
        "id": "DD0sBmRQlhhB",
        "colab_type": "code",
        "colab": {},
        "outputId": "79566da4-17d8-4acd-bd36-2cda22a579f5"
      },
      "cell_type": "code",
      "source": [
        "import numpy as np\n",
        "\n",
        "data = np.array([[0,1,2],[3,4,5],[6,7,8]])\n",
        "data.shape\n",
        "data.ndim\n",
        "data\n",
        "print(data[0])\n",
        "print(data[2])\n",
        "print(data[data > 4])\n",
        "\n",
        "print(\"\")\n",
        "data2 = np.array(['Bob','John','Bob'])\n",
        "data2.dtype\n",
        "data2 == 'Bob'\n",
        "data ==1\n",
        "data[data > 3]\n",
        "\n",
        "\n",
        "#차원에 상관없이 일정\n",
        "data3 = np.array([1,2,3,4,5,6,7,8,9])\n",
        "data3\n",
        "print(data3.ndim)\n",
        "print(data3.mean()) #평균\n",
        "print(data3.max()) #최대값\n",
        "print(data3.min()) #최소\n",
        "print(data4.sum())\n",
        "\n",
        "print(\"\")\n",
        "data4 = np.array([[1,2,3],[4,5,6],[7,8,9]])\n",
        "print(data4.ndim)\n",
        "print(data4.mean())\n",
        "print(data4.max())\n",
        "print(data4.min())\n",
        "print(data4.sum())\n",
        "\n",
        "print(\"\")\n",
        "print(data4[0].mean()) #data4[0]의 평균값"
      ],
      "execution_count": 0,
      "outputs": [
        {
          "output_type": "stream",
          "text": [
            "[0 1 2]\n",
            "[6 7 8]\n",
            "[5 6 7 8]\n",
            "\n",
            "1\n",
            "5.0\n",
            "9\n",
            "1\n",
            "45\n",
            "\n",
            "2\n",
            "5.0\n",
            "9\n",
            "1\n",
            "45\n",
            "\n",
            "2.0\n"
          ],
          "name": "stdout"
        }
      ]
    },
    {
      "metadata": {
        "id": "V_CPd7zelhhX",
        "colab_type": "code",
        "colab": {}
      },
      "cell_type": "code",
      "source": [
        ""
      ],
      "execution_count": 0,
      "outputs": []
    }
  ]
}