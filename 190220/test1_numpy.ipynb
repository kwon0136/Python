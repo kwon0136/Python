{
  "nbformat": 4,
  "nbformat_minor": 0,
  "metadata": {
    "colab": {
      "name": "test1_numpy.ipynb",
      "version": "0.3.2",
      "provenance": [],
      "include_colab_link": true
    },
    "kernelspec": {
      "display_name": "Python 3",
      "language": "python",
      "name": "python3"
    }
  },
  "cells": [
    {
      "cell_type": "markdown",
      "metadata": {
        "id": "view-in-github",
        "colab_type": "text"
      },
      "source": [
        "<a href=\"https://colab.research.google.com/github/kwon0136/Python/blob/master/190220/test1_numpy.ipynb\" target=\"_parent\"><img src=\"https://colab.research.google.com/assets/colab-badge.svg\" alt=\"Open In Colab\"/></a>"
      ]
    },
    {
      "metadata": {
        "id": "1xkqRps8lUe-",
        "colab_type": "code",
        "colab": {},
        "outputId": "9680685f-8be1-4ea8-a8c8-7e0a8607ca9b"
      },
      "cell_type": "code",
      "source": [
        "import numpy as np\n",
        "\n",
        "a = np.array([1,2,3,4])\n",
        "print(a)\n",
        "\n",
        "#다차원 array\n",
        "b = np.array([[1,2],[3,4]])\n",
        "print(b)\n",
        "#c = [[1,2],[3,4]]\n",
        "#print(c)\n",
        "#b != c\n",
        "\n",
        "d = np.array([1, 2, 3, 4], ndmin = 2) #차원 정의 ex.2차원\n",
        "print(d)\n",
        "\n",
        "e = np.array([1,2,3,4], dtype = complex) #type변경 ex.복소수\n",
        "print(e)"
      ],
      "execution_count": 0,
      "outputs": [
        {
          "output_type": "stream",
          "text": [
            "[1 2 3 4]\n",
            "[[1 2]\n",
            " [3 4]]\n",
            "[[1 2 3 4]]\n",
            "[1.+0.j 2.+0.j 3.+0.j 4.+0.j]\n"
          ],
          "name": "stdout"
        }
      ]
    },
    {
      "metadata": {
        "id": "cPJIwnwnlUfM",
        "colab_type": "code",
        "colab": {},
        "outputId": "7f716a8b-669c-4e69-8809-9658fdc54bc2"
      },
      "cell_type": "code",
      "source": [
        "import numpy as np\n",
        "dt = np.dtype(np.int32)\n",
        "print(dt)\n",
        "type(dt)"
      ],
      "execution_count": 0,
      "outputs": [
        {
          "output_type": "stream",
          "text": [
            "int32\n"
          ],
          "name": "stdout"
        },
        {
          "output_type": "execute_result",
          "data": {
            "text/plain": [
              "numpy.dtype"
            ]
          },
          "metadata": {
            "tags": []
          },
          "execution_count": 12
        }
      ]
    },
    {
      "metadata": {
        "id": "bDFVpdwclUfc",
        "colab_type": "code",
        "colab": {},
        "outputId": "a368ddd4-5239-429c-be52-4eb1610dba59"
      },
      "cell_type": "code",
      "source": [
        "import numpy as np\n",
        "dt = np.dtype([('age',np.int8)])\n",
        "\n",
        "a = np.array([10,20,30], dtype=np.int8)\n",
        "print(a)"
      ],
      "execution_count": 0,
      "outputs": [
        {
          "output_type": "stream",
          "text": [
            "[10 20 30]\n"
          ],
          "name": "stdout"
        }
      ]
    },
    {
      "metadata": {
        "id": "JtKWSIKqlUfm",
        "colab_type": "code",
        "colab": {},
        "outputId": "17630df3-a8f6-492d-d87c-44f6107d0ab2"
      },
      "cell_type": "code",
      "source": [
        "import numpy as np\n",
        "\n",
        "a = np.array([1,2,3])\n",
        "print(a.shape)\n",
        "a1 = np.array([[1,2,3],[4,5,6]])\n",
        "#print(a)\n",
        "print(a1.shape) # 크기 \n",
        "\n"
      ],
      "execution_count": 0,
      "outputs": [
        {
          "output_type": "stream",
          "text": [
            "(3,)\n",
            "(2, 3)\n"
          ],
          "name": "stdout"
        }
      ]
    },
    {
      "metadata": {
        "id": "ed88EF_TlUfx",
        "colab_type": "code",
        "colab": {},
        "outputId": "1ecb5867-356d-430a-8adb-7aefd441bbe2"
      },
      "cell_type": "code",
      "source": [
        "import numpy as np\n",
        "a1 = np.array([[1,2,3],[4,5,6]])\n",
        "print(a1.shape)\n",
        "\n",
        "a1.shape = (3,2) #shape 변경\n",
        "print(a1)"
      ],
      "execution_count": 0,
      "outputs": [
        {
          "output_type": "stream",
          "text": [
            "(2, 3)\n",
            "[[1 2]\n",
            " [3 4]\n",
            " [5 6]]\n"
          ],
          "name": "stdout"
        }
      ]
    },
    {
      "metadata": {
        "id": "CguO9A5glUf8",
        "colab_type": "code",
        "colab": {},
        "outputId": "4116520c-7705-4a19-d8fe-42d7d42a3692"
      },
      "cell_type": "code",
      "source": [
        "import numpy as np\n",
        "\n",
        "a3 = np.arange(24) # for문과 같은 기능\n",
        "print(a3.ndim)\n",
        "\n",
        "a3.shape = (2,4,3)\n",
        "print(a3)\n",
        "\n",
        "a4 = np.arange(24)\n",
        "a5 = a4.reshape(2,4,3)\n",
        "print(a5)"
      ],
      "execution_count": 0,
      "outputs": [
        {
          "output_type": "stream",
          "text": [
            "1\n",
            "[[[ 0  1  2]\n",
            "  [ 3  4  5]\n",
            "  [ 6  7  8]\n",
            "  [ 9 10 11]]\n",
            "\n",
            " [[12 13 14]\n",
            "  [15 16 17]\n",
            "  [18 19 20]\n",
            "  [21 22 23]]]\n",
            "[[[ 0  1  2]\n",
            "  [ 3  4  5]\n",
            "  [ 6  7  8]\n",
            "  [ 9 10 11]]\n",
            "\n",
            " [[12 13 14]\n",
            "  [15 16 17]\n",
            "  [18 19 20]\n",
            "  [21 22 23]]]\n"
          ],
          "name": "stdout"
        }
      ]
    },
    {
      "metadata": {
        "id": "AdgU73SelUgF",
        "colab_type": "code",
        "colab": {},
        "outputId": "9634bebd-93ee-4856-c5da-b870df71663f"
      },
      "cell_type": "code",
      "source": [
        "import numpy as np\n",
        "a = np.zeros((3,3)) #'0'으로 채운다\n",
        "print(a)\n",
        "print(a.dtype)\n",
        "\n",
        "a1 = np.ones((2,2)) #'1'로 채운다\n",
        "print(a1)\n",
        "\n",
        "a2 = np.empty((3,3)) #임의의 값으로 채운다\n",
        "print(a2)"
      ],
      "execution_count": 0,
      "outputs": [
        {
          "output_type": "stream",
          "text": [
            "[[0. 0. 0.]\n",
            " [0. 0. 0.]\n",
            " [0. 0. 0.]]\n",
            "float64\n",
            "[[1. 1.]\n",
            " [1. 1.]]\n",
            "[[0. 0. 0.]\n",
            " [0. 0. 0.]\n",
            " [0. 0. 0.]]\n"
          ],
          "name": "stdout"
        }
      ]
    },
    {
      "metadata": {
        "id": "TV_x9WfPlUgW",
        "colab_type": "code",
        "colab": {},
        "outputId": "6244560e-ad43-4cd5-d548-7067f7771a71"
      },
      "cell_type": "code",
      "source": [
        "import numpy as np\n",
        "a = np.array([1,2,3,4,5,6], dtype=np.int8)\n",
        "print(a.ndim)\n",
        "print(a.dtype)\n",
        "print(a.shape)\n",
        "\n",
        "a1 = np.array([1,2,3,4], dtype=np.float)\n",
        "print(a1.ndim)\n",
        "print(a1.dtype)\n",
        "print(a1.shape)\n",
        "\n",
        "a2 = a1.astype(np.int16) # a2 = a1의 dtype을 'int16'으로 바꾸어 가져온다\n",
        "print(a2)\n",
        "print(a2.dtype)"
      ],
      "execution_count": 0,
      "outputs": [
        {
          "output_type": "stream",
          "text": [
            "1\n",
            "int8\n",
            "(6,)\n",
            "1\n",
            "float64\n",
            "(4,)\n",
            "[1 2 3 4]\n",
            "int16\n"
          ],
          "name": "stdout"
        }
      ]
    },
    {
      "metadata": {
        "id": "drWDFdvxlUgh",
        "colab_type": "code",
        "colab": {},
        "outputId": "6f0d01b5-671e-4acd-815b-0df2c62bbe2c"
      },
      "cell_type": "code",
      "source": [
        "import numpy as np\n",
        "#1차원을 모두 0으로 채우기\n",
        "a3 = np.zeros(5)\n",
        "print(a3)\n",
        "\n",
        "#1차원을 모두 0으로 채우고 int로 정의\n",
        "a4 = np.zeros((5,), dtype=np.int)\n",
        "print(a4.dtype)"
      ],
      "execution_count": 0,
      "outputs": [
        {
          "output_type": "stream",
          "text": [
            "[0. 0. 0. 0. 0.]\n",
            "int32\n"
          ],
          "name": "stdout"
        }
      ]
    },
    {
      "metadata": {
        "id": "a_L0Zd9XlUgt",
        "colab_type": "code",
        "colab": {}
      },
      "cell_type": "code",
      "source": [
        ""
      ],
      "execution_count": 0,
      "outputs": []
    }
  ]
}