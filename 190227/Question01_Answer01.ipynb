{
  "nbformat": 4,
  "nbformat_minor": 0,
  "metadata": {
    "colab": {
      "name": "Question01_Answer01.ipynb",
      "version": "0.3.2",
      "provenance": [],
      "include_colab_link": true
    },
    "language_info": {
      "codemirror_mode": {
        "name": "ipython",
        "version": 3
      },
      "file_extension": ".py",
      "mimetype": "text/x-python",
      "name": "python",
      "nbconvert_exporter": "python",
      "pygments_lexer": "ipython3",
      "version": "3.7.1"
    },
    "kernelspec": {
      "display_name": "Python 3",
      "language": "python",
      "name": "python3"
    }
  },
  "cells": [
    {
      "cell_type": "markdown",
      "metadata": {
        "id": "view-in-github",
        "colab_type": "text"
      },
      "source": [
        "<a href=\"https://colab.research.google.com/github/kwon0136/Python/blob/master/190227/Question01_Answer01.ipynb\" target=\"_parent\"><img src=\"https://colab.research.google.com/assets/colab-badge.svg\" alt=\"Open In Colab\"/></a>"
      ]
    },
    {
      "metadata": {
        "id": "oBgpwIipao9Q",
        "colab_type": "code",
        "colab": {}
      },
      "cell_type": "code",
      "source": [
        "#* 1부터 100까지의 합을 구현하시오.\n",
        "sum = 0\n",
        "for i in range(1,11):\n",
        "    print(i, end = ' ')\n",
        "    sum += i\n",
        "\n",
        "print(i)"
      ],
      "execution_count": 0,
      "outputs": []
    },
    {
      "metadata": {
        "id": "zeiwNtUmao9d",
        "colab_type": "code",
        "colab": {}
      },
      "cell_type": "code",
      "source": [
        "#* 1부터 100까지의 홀수의 합을 구현하시오.\n",
        "sum = 0\n",
        "for i in range(1, 101, 2):\n",
        "    print(i, end = ' ')\n",
        "    sum += i\n",
        "\n",
        "print(\"합계 : %d\" % sum)"
      ],
      "execution_count": 0,
      "outputs": []
    },
    {
      "metadata": {
        "id": "dWNJtC8iao9l",
        "colab_type": "code",
        "colab": {}
      },
      "cell_type": "code",
      "source": [
        "#* 1부터 100까지의 짝수의 합을 구현하시오.\n",
        "\n",
        "sum = 0\n",
        "for i in range(0, 101, 2):\n",
        "    print(i, end = ' ')\n",
        "    sum += i\n",
        "    \n",
        "print(\"합계 : %d\" % sum)"
      ],
      "execution_count": 0,
      "outputs": []
    },
    {
      "metadata": {
        "id": "YrjyZX8jao9t",
        "colab_type": "code",
        "colab": {}
      },
      "cell_type": "code",
      "source": [
        "#* 시작값, 끝값, 증가값 3가지 입력을 받아서 합계를 처리하는 기능을 구현하시오.\n",
        "\n",
        "num1 = int(input(\"시작값 :\"))\n",
        "num2 = int(input(\"끝값 :\"))\n",
        "num3 = int(input(\"증가값 :\"))\n",
        "sum = 0\n",
        "for i in range(num1, num2, num3):\n",
        "    print(i, end = ' ')\n",
        "    sum += i\n",
        "    \n",
        "print(\"합계 : %d\" % sum)"
      ],
      "execution_count": 0,
      "outputs": []
    },
    {
      "metadata": {
        "id": "41omUrfHao90",
        "colab_type": "code",
        "colab": {}
      },
      "cell_type": "code",
      "source": [
        "#* 단수를 입력하면 구구단을 출력하는 기능을 구현하시오. (계속적으로 입력가능하도록 처리해야함)\n",
        "while(True):\n",
        "    dan = int(input(\"단수 :\"))\n",
        "    for y in (2, 10):\n",
        "        print(\"%d X %d = %d\" % (dan, y, dan * y))\n",
        "        \n",
        "    yn = input(\"종료하시겠습니까? (y/n):\")\n",
        "    if yn == 'y': break\n",
        "        "
      ],
      "execution_count": 0,
      "outputs": []
    },
    {
      "metadata": {
        "id": "xcqvfnr3ao97",
        "colab_type": "code",
        "colab": {}
      },
      "cell_type": "code",
      "source": [
        "#* 두수를 입력받아서 사칙 연산을 할수 있는 계산기능을 구현하시오. (계속적으로 입력가능하도록 처리해야함)\n",
        "#- 함수 없이 구현하기\n",
        "#- 함수를 사용해서 구현하기\n",
        "#- 클래스를 이용해서 구현하기\n",
        "\n",
        "while(True):\n",
        "    result = 0\n",
        "    num1, num2, op = int(input(\"첫번째 숫자 :\")), int(input(\"두번째 숫자 :\")), input(\"연산자 :\")\n",
        "    if op == \"+\":\n",
        "        result = num1 + num2\n",
        "    elif op == \"-\":\n",
        "        result = num1 - num2\n",
        "    elif op == \"*\":\n",
        "        result = num1 * num2\n",
        "    elif op == \"/\":\n",
        "        result = num1 / num2\n",
        "    else:\n",
        "        result = \"연산자를 잘못입력하셨습니다.\"\n",
        "    \n",
        "    print(\"결과는 : %s\" % result)\n",
        "    yn = input(\"종료하시겠습니까? (y/n):\")\n",
        "    if yn == 'y': break\n"
      ],
      "execution_count": 0,
      "outputs": []
    },
    {
      "metadata": {
        "id": "M3qhRaUeao-B",
        "colab_type": "code",
        "colab": {}
      },
      "cell_type": "code",
      "source": [
        "def calc(num1, num2, op):\n",
        "    \n",
        "    if op == \"+\":\n",
        "        result = num1 + num2\n",
        "    elif op == \"-\":\n",
        "        result = num1 - num2\n",
        "    elif op == \"*\":\n",
        "        result = num1 * num2\n",
        "    elif op == \"/\":\n",
        "        result = num1 / num2\n",
        "    else:\n",
        "        result = \"연산자를 잘못입력하셨습니다.\"        \n",
        "    return result\n",
        "\n",
        "while(True):\n",
        "    result = 0\n",
        "    num1, num2, op = int(input(\"첫번째 숫자 :\")), int(input(\"두번째 숫자 :\")), input(\"연산자 :\")\n",
        "   \n",
        "    result = calc(num1, num2, op)\n",
        "    \n",
        "    print(\"결과는 : %s\" % result)\n",
        "    yn = input(\"종료하시겠습니까? (y/n):\")\n",
        "    if yn == 'y': break"
      ],
      "execution_count": 0,
      "outputs": []
    },
    {
      "metadata": {
        "id": "iXG2UvMuao-I",
        "colab_type": "code",
        "colab": {},
        "outputId": "4b89f859-d249-4924-c408-a275e792a672"
      },
      "cell_type": "code",
      "source": [
        "class Calculator:\n",
        "    \n",
        "    def calc(self, num1, num2, op):\n",
        "        if op == \"+\":\n",
        "            result = num1 + num2\n",
        "        elif op == \"-\":\n",
        "            result = num1 - num2\n",
        "        elif op == \"*\":\n",
        "            result = num1 * num2\n",
        "        elif op == \"/\":\n",
        "            result = num1 / num2\n",
        "        else:\n",
        "            result = \"연산자를 잘못입력하셨습니다.\"        \n",
        "        return result\n",
        "    \n",
        "while(True):\n",
        "    result = 0\n",
        "    num1, num2, op = int(input(\"첫번째 숫자 :\")), int(input(\"두번째 숫자 :\")), input(\"연산자 :\")\n",
        "   \n",
        "    c = Calculator()\n",
        "    result = c.calc(num1, num2, op)\n",
        "    \n",
        "    print(\"결과는 : %d\" % result)\n",
        "    yn = input(\"종료하시겠습니까? (y/n):\")\n",
        "    if yn == 'y': break"
      ],
      "execution_count": 0,
      "outputs": [
        {
          "output_type": "stream",
          "text": [
            "첫번째 숫자 :1\n",
            "두번째 숫자 :2\n",
            "연산자 :*\n",
            "결과는 : 2\n",
            "종료하시겠습니까? (y/n):y\n"
          ],
          "name": "stdout"
        }
      ]
    },
    {
      "metadata": {
        "id": "R8invt7Kao-W",
        "colab_type": "code",
        "colab": {}
      },
      "cell_type": "code",
      "source": [
        "#* 계산기능을 구현하려고 한다.\n",
        "#  Calc 모듈을 작성하고 사칙연산을 할수 있는 각각의 함수를 정의하고 \n",
        "#  호출해서 사용하는 예를 구성하시오.\n",
        "\n",
        "# file명을 Calc.py로 생성하고 현재 동작하는 경로에 넣거나 Python이 수행할때 인지할수 있는 환경변수에 넣어주고 사용하면된다.\n",
        "#def add(num1, num2):\n",
        "#    return num1 + num2\n",
        "#\n",
        "#def subtract(num1, num2):\n",
        "#    return num1 - num2\n",
        "#\n",
        "#def multiply(num1, num2):\n",
        "#    return num1 * num2\n",
        "#\n",
        "#def divide(num1, num2):\n",
        "#    return num1 / num2\n",
        "\n",
        "# 호출할때 \n",
        "# import Calc\n",
        "# 사용할때\n",
        "# Calc.add(num1, num2) 덧셈\n",
        "# Calc.subtract(num1, num2) 뺄셈\n",
        "# Calc.multiply(num1, num2) 곱셈\n",
        "# Calc.divide(num1, num2) 나눗셈"
      ],
      "execution_count": 0,
      "outputs": []
    },
    {
      "metadata": {
        "id": "GEi4twBQao-e",
        "colab_type": "code",
        "colab": {}
      },
      "cell_type": "code",
      "source": [
        ""
      ],
      "execution_count": 0,
      "outputs": []
    },
    {
      "metadata": {
        "id": "gbVzd0jkao-k",
        "colab_type": "code",
        "colab": {}
      },
      "cell_type": "code",
      "source": [
        ""
      ],
      "execution_count": 0,
      "outputs": []
    },
    {
      "metadata": {
        "id": "qQL7c-m4ao-q",
        "colab_type": "code",
        "colab": {}
      },
      "cell_type": "code",
      "source": [
        ""
      ],
      "execution_count": 0,
      "outputs": []
    },
    {
      "metadata": {
        "id": "rWG8K_CWao-x",
        "colab_type": "code",
        "colab": {}
      },
      "cell_type": "code",
      "source": [
        ""
      ],
      "execution_count": 0,
      "outputs": []
    },
    {
      "metadata": {
        "id": "SpKradmIao-3",
        "colab_type": "code",
        "colab": {}
      },
      "cell_type": "code",
      "source": [
        ""
      ],
      "execution_count": 0,
      "outputs": []
    }
  ]
}