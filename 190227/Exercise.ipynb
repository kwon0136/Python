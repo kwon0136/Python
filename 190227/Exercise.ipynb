{
  "nbformat": 4,
  "nbformat_minor": 0,
  "metadata": {
    "colab": {
      "name": "Exercise.ipynb",
      "version": "0.3.2",
      "provenance": [],
      "include_colab_link": true
    },
    "language_info": {
      "codemirror_mode": {
        "name": "ipython",
        "version": 3
      },
      "file_extension": ".py",
      "mimetype": "text/x-python",
      "name": "python",
      "nbconvert_exporter": "python",
      "pygments_lexer": "ipython3",
      "version": "3.7.1"
    },
    "kernelspec": {
      "display_name": "Python 3",
      "language": "python",
      "name": "python3"
    }
  },
  "cells": [
    {
      "cell_type": "markdown",
      "metadata": {
        "id": "view-in-github",
        "colab_type": "text"
      },
      "source": [
        "<a href=\"https://colab.research.google.com/github/kwon0136/Python/blob/master/190227/Exercise.ipynb\" target=\"_parent\"><img src=\"https://colab.research.google.com/assets/colab-badge.svg\" alt=\"Open In Colab\"/></a>"
      ]
    },
    {
      "metadata": {
        "id": "jjl3i_MabEgz",
        "colab_type": "code",
        "colab": {},
        "outputId": "81f20bd9-3ecf-4ed1-af63-1ac82fab61d5"
      },
      "cell_type": "code",
      "source": [
        "import pyodbc \n",
        "cnxn = pyodbc.connect(\"Driver={SQL Server Native Client 11.0};\"\n",
        "                        \"Server=.;\"\n",
        "                        \"Database=VideoShop;\"\n",
        "                        \"uid=sa;pwd=Pa$$w0rd\")\n",
        "cursor = cnxn.cursor()\n",
        "cursor.execute('SELECT * FROM VS_CUSTOMER')\n",
        "\n",
        "for row in cursor:\n",
        "    print(row)"
      ],
      "execution_count": 0,
      "outputs": [
        {
          "output_type": "stream",
          "text": [
            "('10001', '홍길동    ', '345-1432       ', '인천광역시 효성1동            ', '701113-1270616')\n",
            "('10002', '영화광    ', '445-2432       ', '인천광역시 효성1동            ', '721002-1470618')\n",
            "('10003', '강명훈    ', '532-3442       ', '인천광역시 효성2동            ', '731113-4410626')\n",
            "('10004', '이상훈    ', '654-4412       ', '인천광역시 효성2동            ', '740206-1470612')\n",
            "('10005', '강미영    ', '777-5422       ', '인천광역시 계산동             ', '750313-0470616')\n",
            "('10006', '이존오    ', '881-6432       ', '인천광역시 부평1동            ', '770601-1420314')\n",
            "('10007', '홍미영    ', '942-6432       ', '인천광역시 부평2동            ', '770802-0470617')\n"
          ],
          "name": "stdout"
        }
      ]
    },
    {
      "metadata": {
        "id": "Na2TEYJfbEhK",
        "colab_type": "code",
        "colab": {}
      },
      "cell_type": "code",
      "source": [
        ""
      ],
      "execution_count": 0,
      "outputs": []
    }
  ]
}