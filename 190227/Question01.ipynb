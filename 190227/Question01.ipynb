{
  "nbformat": 4,
  "nbformat_minor": 0,
  "metadata": {
    "colab": {
      "name": "Question01.ipynb",
      "version": "0.3.2",
      "provenance": [],
      "include_colab_link": true
    },
    "language_info": {
      "codemirror_mode": {
        "name": "ipython",
        "version": 3
      },
      "file_extension": ".py",
      "mimetype": "text/x-python",
      "name": "python",
      "nbconvert_exporter": "python",
      "pygments_lexer": "ipython3",
      "version": "3.7.1"
    },
    "kernelspec": {
      "display_name": "Python 3",
      "language": "python",
      "name": "python3"
    }
  },
  "cells": [
    {
      "cell_type": "markdown",
      "metadata": {
        "id": "view-in-github",
        "colab_type": "text"
      },
      "source": [
        "<a href=\"https://colab.research.google.com/github/kwon0136/Python/blob/master/190227/Question01.ipynb\" target=\"_parent\"><img src=\"https://colab.research.google.com/assets/colab-badge.svg\" alt=\"Open In Colab\"/></a>"
      ]
    },
    {
      "metadata": {
        "id": "-zEWJKiZadxa",
        "colab_type": "code",
        "colab": {}
      },
      "cell_type": "code",
      "source": [
        "# 1부터 100까지의 합을 구현하시오.\n",
        "\n",
        "sum = 0\n",
        "for i in range(1,101):\n",
        "    sum = sum + i\n",
        "print(sum)"
      ],
      "execution_count": 0,
      "outputs": []
    },
    {
      "metadata": {
        "id": "VYwk2rOpadxp",
        "colab_type": "code",
        "colab": {}
      },
      "cell_type": "code",
      "source": [
        "# 1부터 100까지의 홀수의 합을 구현하시오.\n",
        "# 1부터 100까지의 짝수의 합을 구현하시오.\n",
        "\n",
        "sum_odd = 0\n",
        "sum_even = 0\n",
        "for i in range(1, 101):\n",
        "    if i% 2 == 0:\n",
        "        sum_even = sum_even + i\n",
        "    else:\n",
        "        sum_odd = sum_odd + i\n",
        "print(sum_even, sum_odd)"
      ],
      "execution_count": 0,
      "outputs": []
    },
    {
      "metadata": {
        "id": "9PZwyzYJadx1",
        "colab_type": "code",
        "colab": {}
      },
      "cell_type": "code",
      "source": [
        "coffee = 0\n",
        "coffee = int(input(\"어떤 커피 드릴까요? (1: 보통, 2: 설탕, 3: 블랙)\"))\n",
        "\n",
        "print()\n",
        "print(\"#1. 뜨거운 물을 준비한다\")\n",
        "print(\"#2. 종이컵을 준비한다\")\n",
        "\n",
        "if coffee == 1:\n",
        "    print(\"#3. 보통커피를 탄다.\")\n",
        "elif coffee == 2:\n",
        "    print(\"#3. 설탕커피를 탄다.\")\n",
        "elif coffee ==3:\n",
        "    print(\"#3. 블랙커피를 탄다.\")\n",
        "else:\n",
        "    print(\"#3. 아무거나 탄다. \\n\")\n",
        "\n",
        "print(\"#4. 물을 붓는다.\")\n",
        "print(\"#5. 스푼으로 젓는다.\")\n",
        "print()\n",
        "print(\"손님~커피 여기 있습니다.\")  "
      ],
      "execution_count": 0,
      "outputs": []
    },
    {
      "metadata": {
        "id": "31kLZyujadyB",
        "colab_type": "code",
        "colab": {}
      },
      "cell_type": "code",
      "source": [
        "#전역 변수 선언\n",
        "coffee = 0\n",
        "\n",
        "#함수 선언\n",
        "def coffee_machine(button) :\n",
        "     print()\n",
        "     print(\"#1. (자동으로) 뜨거운 물을 준비한다.\");\n",
        "     print(\"#2. (자동으로) 종이컵을 준비한다.\");\n",
        "     if button == 1 :\n",
        "          print(\"#3. (자동으로) 보통커피를 탄다.\")\n",
        "     elif button == 2 :\n",
        "          print(\"#3. (자동으로) 설탕커피를 탄다.\")\n",
        "     elif button == 3 :\n",
        "          print(\"#3. (자동으로) 블랙커피를 탄다.\")\n",
        "     else :\n",
        "          print(\"#3. (자동으로) 아무거나 탄다.\\n\")\n",
        "\n",
        "     print(\"#4. (자동으로) 물을 붓는다.\");\n",
        "     print(\"#5. (자동으로) 스푼으로 젓는다.\");\n",
        "     print()\n",
        "\n",
        "# 메인 코드\n",
        "coffee = int(input(\"A손님, 어떤 커피 드릴까요?(1:보통, 2:설탕, 3:블랙)\"))\n",
        "coffee_machine(coffee)\n",
        "print(\"A손님~ 커피 여기 있습니다.\")\n",
        "\n",
        "coffee = int(input(\"B손님, 어떤 커피 드릴까요?(1:보통, 2:설탕, 3:블랙)\"))\n",
        "coffee_machine(coffee)\n",
        "print(\"B손님~ 커피 여기 있습니다.\")\n",
        "\n",
        "coffee = int(input(\"C손님, 어떤 커피 드릴까요?(1:보통, 2:설탕, 3:블랙)\"))\n",
        "coffee_machine(coffee)\n",
        "print(\"C손님~ 커피 여기 있습니다.\")"
      ],
      "execution_count": 0,
      "outputs": []
    },
    {
      "metadata": {
        "id": "quIFROFladyM",
        "colab_type": "code",
        "colab": {}
      },
      "cell_type": "code",
      "source": [
        "# 클래스 선언\n",
        "class  Car :\n",
        "    color = \"\"\n",
        "    speed = 0\n",
        "\n",
        "    def  upSpeed(self, value) :\n",
        "        self.speed += value\n",
        "    \n",
        "    def  downSpeed(self, value) :\n",
        "        self.speed -= value\n",
        "\n",
        "# 메인 코드\n",
        "myCar1 = Car()\n",
        "myCar1.color = \"빨강\"\n",
        "myCar1.speed = 0\n",
        "\n",
        "myCar2 = Car()\n",
        "myCar2.color = \"파랑\"\n",
        "myCar2.speed = 0\n",
        "\n",
        "myCar3 = Car()\n",
        "myCar3.color = \"노랑\"\n",
        "myCar3.speed = 0\n",
        "\n",
        "myCar1.upSpeed(30)\n",
        "print(\"자동차1의 색상은 %s이며, 현재 속도는 %dkm입니다.\" % (myCar1.color, myCar1.speed))\n",
        "\n",
        "myCar2.upSpeed(60)\n",
        "print(\"자동차2의 색상은 %s이며, 현재 속도는 %dkm입니다.\" % (myCar2.color, myCar2.speed))\n",
        "\n",
        "myCar3.upSpeed(0)\n",
        "print(\"자동차3의 색상은 %s이며, 현재 속도는 %dkm입니다.\" % (myCar3.color, myCar3.speed))"
      ],
      "execution_count": 0,
      "outputs": []
    },
    {
      "metadata": {
        "id": "E5srsZBZadyX",
        "colab_type": "code",
        "colab": {}
      },
      "cell_type": "code",
      "source": [
        "# 단수를 입력하면 구구단을 출력하는 기능을 구현하시오. (계속적으로 입력가능하도록 처리해야함)\n",
        "while True:\n",
        "    gugu = int(input(\"단수 입력: \"))\n",
        "    for i in range(1, 10):\n",
        "        print(gugu, \"X\", i, \"=\", gugu*i)"
      ],
      "execution_count": 0,
      "outputs": []
    },
    {
      "metadata": {
        "id": "Ym6dPgG7adyq",
        "colab_type": "code",
        "colab": {},
        "outputId": "3889d7c2-6cad-4ba3-e163-6ed8ba573b68"
      },
      "cell_type": "code",
      "source": [
        "#* 두수를 입력받아서 사칙 연산을 할수 있는 계산기능을 구현하시오. (계속적으로 입력가능하도록 처리해야함)\n",
        "#- 함수 없이 구현하기\n",
        "#- 함수를 사용해서 구현하기\n",
        "#- 클래스를 이용해서 구현하기\n",
        "\n",
        "# 함수 없이 구현하기\n",
        "while True:\n",
        "    a = int(input(\"첫번째 수를 입력하시오: \"))\n",
        "    b = int(input(\"두번째 수를 입력하시오: \"))\n",
        "    print(a, \"+\", b, \"=\", a+b)\n",
        "    print(a, \"-\", b, \"=\", a-b)\n",
        "    print(a, \"X\", b, \"=\", a*b)\n",
        "    print(a, \"/\", b, \"=\", a/b)\n",
        "    "
      ],
      "execution_count": 0,
      "outputs": [
        {
          "output_type": "stream",
          "text": [
            "첫번째 수를 입력하시오: 3\n",
            "두번째 수를 입력하시오: 5\n",
            "3 + 5 = 8\n",
            "3 - 5 = -2\n",
            "3 * 5 = 15\n",
            "3 / 5 = 0.6\n"
          ],
          "name": "stdout"
        }
      ]
    },
    {
      "metadata": {
        "id": "0yfrMCXSadzc",
        "colab_type": "code",
        "colab": {}
      },
      "cell_type": "code",
      "source": [
        "#- 함수를 사용해서 구현하기\n",
        "\n",
        "#전역 변수 선언\n",
        "result1 = 0\n",
        "result2 = 0\n",
        "result3 = 0\n",
        "result4 = 0\n",
        "\n",
        "# 함수 선언\n",
        "def add(a, b):\n",
        "    return a+b\n",
        "\n",
        "def sub(a, b):\n",
        "    return a-b\n",
        "\n",
        "def mul(a, b):\n",
        "    return a*b\n",
        "\n",
        "def div(a, b):\n",
        "    return a/b\n",
        "\n",
        "# 메인 코드\n",
        "while True:\n",
        "    a = int(input(\"첫번째 수를 입력하시오: \"))\n",
        "    b = int(input(\"두번째 수를 입력하시오: \"))\n",
        "    result1 = add(a, b)\n",
        "    result2 = sub(a, b)\n",
        "    result3 = mul(a, b)\n",
        "    result4 = div(a, b)\n",
        "    \n",
        "    print(result1,result2,result3,result4)\n",
        "    "
      ],
      "execution_count": 0,
      "outputs": []
    },
    {
      "metadata": {
        "id": "zkNZeg7dadzo",
        "colab_type": "code",
        "colab": {}
      },
      "cell_type": "code",
      "source": [
        "#- 클래스를 이용해서 구현하기\n",
        "\n",
        "#클래스 선언\n",
        "class cla:\n",
        "    result1 = 0\n",
        "    result2 = 0\n",
        "    result3 = 0\n",
        "    result4 = 0\n",
        "\n",
        "    def add(a, b):\n",
        "        return a+b\n",
        "\n",
        "    def sub(a, b):\n",
        "        return a-b\n",
        "\n",
        "    def mul(a, b):\n",
        "        return a*b\n",
        "\n",
        "    def div(a, b):\n",
        "        return a/b\n",
        "\n",
        "# 메인 코드\n",
        "while True:\n",
        "    a = int(input(\"첫번째 수를 입력하시오: \"))\n",
        "    b = int(input(\"두번째 수를 입력하시오: \"))\n",
        "    result1 = add(a, b)\n",
        "    result2 = sub(a, b)\n",
        "    result3 = mul(a, b)\n",
        "    result4 = div(a, b)\n",
        "    \n",
        "    print(result1,result2,result3,result4)\n",
        "    "
      ],
      "execution_count": 0,
      "outputs": []
    },
    {
      "metadata": {
        "id": "405dWwAYadz1",
        "colab_type": "code",
        "colab": {}
      },
      "cell_type": "code",
      "source": [
        ""
      ],
      "execution_count": 0,
      "outputs": []
    },
    {
      "metadata": {
        "id": "EppUvlRwadz9",
        "colab_type": "code",
        "colab": {}
      },
      "cell_type": "code",
      "source": [
        ""
      ],
      "execution_count": 0,
      "outputs": []
    },
    {
      "metadata": {
        "id": "VwyEserOad0D",
        "colab_type": "code",
        "colab": {}
      },
      "cell_type": "code",
      "source": [
        ""
      ],
      "execution_count": 0,
      "outputs": []
    },
    {
      "metadata": {
        "id": "qtaAhYgSad0J",
        "colab_type": "code",
        "colab": {}
      },
      "cell_type": "code",
      "source": [
        ""
      ],
      "execution_count": 0,
      "outputs": []
    },
    {
      "metadata": {
        "id": "XewRGMDtad0Q",
        "colab_type": "code",
        "colab": {}
      },
      "cell_type": "code",
      "source": [
        ""
      ],
      "execution_count": 0,
      "outputs": []
    },
    {
      "metadata": {
        "id": "6QLUVrNiad0W",
        "colab_type": "code",
        "colab": {}
      },
      "cell_type": "code",
      "source": [
        ""
      ],
      "execution_count": 0,
      "outputs": []
    },
    {
      "metadata": {
        "id": "zqN1ybTXad0n",
        "colab_type": "code",
        "colab": {}
      },
      "cell_type": "code",
      "source": [
        ""
      ],
      "execution_count": 0,
      "outputs": []
    },
    {
      "metadata": {
        "id": "9J8yqYdJad00",
        "colab_type": "code",
        "colab": {}
      },
      "cell_type": "code",
      "source": [
        ""
      ],
      "execution_count": 0,
      "outputs": []
    },
    {
      "metadata": {
        "id": "nkbZYIwVad1H",
        "colab_type": "code",
        "colab": {}
      },
      "cell_type": "code",
      "source": [
        ""
      ],
      "execution_count": 0,
      "outputs": []
    },
    {
      "metadata": {
        "id": "3CdGqn1Aad1V",
        "colab_type": "code",
        "colab": {}
      },
      "cell_type": "code",
      "source": [
        ""
      ],
      "execution_count": 0,
      "outputs": []
    }
  ]
}