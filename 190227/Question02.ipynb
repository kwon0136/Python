{
  "nbformat": 4,
  "nbformat_minor": 0,
  "metadata": {
    "colab": {
      "name": "Question02.ipynb",
      "version": "0.3.2",
      "provenance": [],
      "include_colab_link": true
    },
    "language_info": {
      "codemirror_mode": {
        "name": "ipython",
        "version": 3
      },
      "file_extension": ".py",
      "mimetype": "text/x-python",
      "name": "python",
      "nbconvert_exporter": "python",
      "pygments_lexer": "ipython3",
      "version": "3.7.1"
    },
    "kernelspec": {
      "display_name": "Python 3",
      "language": "python",
      "name": "python3"
    }
  },
  "cells": [
    {
      "cell_type": "markdown",
      "metadata": {
        "id": "view-in-github",
        "colab_type": "text"
      },
      "source": [
        "<a href=\"https://colab.research.google.com/github/kwon0136/Python/blob/master/190227/Question02.ipynb\" target=\"_parent\"><img src=\"https://colab.research.google.com/assets/colab-badge.svg\" alt=\"Open In Colab\"/></a>"
      ]
    },
    {
      "metadata": {
        "id": "olI4NOFWayV-",
        "colab_type": "code",
        "colab": {},
        "outputId": "26ac7b72-dbc8-4cde-f672-7c3e8c09a55d"
      },
      "cell_type": "code",
      "source": [
        "#* 파이썬 라이브러리 pyodbc를 사용하여 SQL Server데이터베이스를 접속하고\n",
        "#  VideoShop의 VS_CUSTOMER를 가져오는(SELECT) 기능을 구현하시오.\n",
        "\n",
        "import pyodbc \n",
        "cnxn = pyodbc.connect(\"Driver={SQL Server Native Client 11.0};\"\n",
        "                        \"Server=.;\"\n",
        "                        \"Database=VideoShop;\"\n",
        "                        \"uid=sa;pwd=Pa$$w0rd\")\n",
        "cursor = cnxn.cursor()\n",
        "cursor.execute('SELECT * FROM VS_CUSTOMER')\n",
        "\n",
        "for row in cursor:\n",
        "    print(row)"
      ],
      "execution_count": 0,
      "outputs": [
        {
          "output_type": "stream",
          "text": [
            "('10001', '홍길동    ', '345-1432       ', '인천광역시 효성1동            ', '701113-1270616')\n",
            "('10002', '영화광    ', '445-2432       ', '인천광역시 효성1동            ', '721002-1470618')\n",
            "('10003', '강명훈    ', '532-3442       ', '인천광역시 효성2동            ', '731113-4410626')\n",
            "('10004', '이상훈    ', '654-4412       ', '인천광역시 효성2동            ', '740206-1470612')\n",
            "('10005', '강미영    ', '777-5422       ', '인천광역시 계산동             ', '750313-0470616')\n",
            "('10006', '이존오    ', '881-6432       ', '인천광역시 부평1동            ', '770601-1420314')\n",
            "('10007', '홍미영    ', '942-6432       ', '인천광역시 부평2동            ', '770802-0470617')\n"
          ],
          "name": "stdout"
        }
      ]
    },
    {
      "metadata": {
        "id": "vpYlsb7YayWO",
        "colab_type": "code",
        "colab": {}
      },
      "cell_type": "code",
      "source": [
        "#* 제공된 seoul.csv를 사용하여 서울 기온데이터를 사용하여 \n",
        "#   - 기상 관측 이래 가장 더웠던 날은 몇도 있는지 출력하고, 그래프로 출력하시오.\n",
        "#     (plot, histgram사용)\n",
        "\n",
        "import csv\n",
        "f = open(\"../Data/seoul.csv\", encoding='utf-8')\n",
        "data = csv.reader(f)\n",
        "next(data)\n",
        "\n",
        "min_temp = 0\n",
        "max_temp_date = ''\n",
        "\n",
        "for row in data:\n",
        "    if row[-2] != '':\n",
        "        if float(row[-2]) < min_temp:\n",
        "            min_temp = float(row[-2])\n",
        "            min_temp_date = row[0]\n",
        "            \n",
        "print(min_temp, min_temp_date)\n",
        "\n"
      ],
      "execution_count": 0,
      "outputs": []
    },
    {
      "metadata": {
        "id": "pRmtvA-kayWZ",
        "colab_type": "code",
        "colab": {}
      },
      "cell_type": "code",
      "source": [
        ""
      ],
      "execution_count": 0,
      "outputs": []
    },
    {
      "metadata": {
        "id": "Hs31ioikayWh",
        "colab_type": "code",
        "colab": {}
      },
      "cell_type": "code",
      "source": [
        ""
      ],
      "execution_count": 0,
      "outputs": []
    },
    {
      "metadata": {
        "id": "OlL-1ZQuayWr",
        "colab_type": "code",
        "colab": {}
      },
      "cell_type": "code",
      "source": [
        ""
      ],
      "execution_count": 0,
      "outputs": []
    },
    {
      "metadata": {
        "id": "ZzNKtjIAayW5",
        "colab_type": "code",
        "colab": {}
      },
      "cell_type": "code",
      "source": [
        ""
      ],
      "execution_count": 0,
      "outputs": []
    },
    {
      "metadata": {
        "id": "6ny2UPAkayXI",
        "colab_type": "code",
        "colab": {}
      },
      "cell_type": "code",
      "source": [
        ""
      ],
      "execution_count": 0,
      "outputs": []
    },
    {
      "metadata": {
        "id": "KkkqNFUmayXV",
        "colab_type": "code",
        "colab": {}
      },
      "cell_type": "code",
      "source": [
        ""
      ],
      "execution_count": 0,
      "outputs": []
    },
    {
      "metadata": {
        "id": "xThDEAyOayXd",
        "colab_type": "code",
        "colab": {}
      },
      "cell_type": "code",
      "source": [
        ""
      ],
      "execution_count": 0,
      "outputs": []
    },
    {
      "metadata": {
        "id": "E1sdtLiOayXn",
        "colab_type": "code",
        "colab": {}
      },
      "cell_type": "code",
      "source": [
        ""
      ],
      "execution_count": 0,
      "outputs": []
    },
    {
      "metadata": {
        "id": "rgZ72UoeayXv",
        "colab_type": "code",
        "colab": {}
      },
      "cell_type": "code",
      "source": [
        ""
      ],
      "execution_count": 0,
      "outputs": []
    },
    {
      "metadata": {
        "id": "SoWREv1uayX4",
        "colab_type": "code",
        "colab": {}
      },
      "cell_type": "code",
      "source": [
        ""
      ],
      "execution_count": 0,
      "outputs": []
    },
    {
      "metadata": {
        "id": "KLnioBhqayYC",
        "colab_type": "code",
        "colab": {}
      },
      "cell_type": "code",
      "source": [
        ""
      ],
      "execution_count": 0,
      "outputs": []
    },
    {
      "metadata": {
        "id": "DktfACaoayYK",
        "colab_type": "code",
        "colab": {}
      },
      "cell_type": "code",
      "source": [
        ""
      ],
      "execution_count": 0,
      "outputs": []
    },
    {
      "metadata": {
        "id": "zL53wPwbayYW",
        "colab_type": "code",
        "colab": {}
      },
      "cell_type": "code",
      "source": [
        ""
      ],
      "execution_count": 0,
      "outputs": []
    },
    {
      "metadata": {
        "id": "yWAHUt44ayYh",
        "colab_type": "code",
        "colab": {}
      },
      "cell_type": "code",
      "source": [
        ""
      ],
      "execution_count": 0,
      "outputs": []
    }
  ]
}