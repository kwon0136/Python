{
  "nbformat": 4,
  "nbformat_minor": 0,
  "metadata": {
    "colab": {
      "name": "test2_method.ipynb",
      "version": "0.3.2",
      "provenance": [],
      "include_colab_link": true
    },
    "kernelspec": {
      "display_name": "Python 3",
      "language": "python",
      "name": "python3"
    }
  },
  "cells": [
    {
      "cell_type": "markdown",
      "metadata": {
        "id": "view-in-github",
        "colab_type": "text"
      },
      "source": [
        "<a href=\"https://colab.research.google.com/github/kwon0136/Python/blob/master/190221/test2_method.ipynb\" target=\"_parent\"><img src=\"https://colab.research.google.com/assets/colab-badge.svg\" alt=\"Open In Colab\"/></a>"
      ]
    },
    {
      "metadata": {
        "id": "WUzKhV88H_gL",
        "colab_type": "code",
        "colab": {},
        "outputId": "947172fc-e369-4b8b-d52b-df2f3f7dbd10"
      },
      "cell_type": "code",
      "source": [
        "import numpy as np\n",
        "a = np.array([[3,7,5],[8,4,3],[2,4,9]])\n",
        "print(np.amin(a,1)) # 1 --> row 기준 최소\n",
        "print(\"\")\n",
        "print(np.amin(a,0)) # 0 --> col 기준 최소\n",
        "print(\"\")\n",
        "print(np.max(a))\n",
        "print(\"\")\n",
        "print(np.amax(a, axis=0))\n",
        "print(\"\")\n",
        "print(np.amax(a, axis=1))\n",
        "print(\"\")\n",
        "print(np.median(a, axis=0))\n",
        "print(\"\")\n",
        "print(np.median(a, axis=1))\n",
        "print(\"\")\n",
        "print(np.mean(a))\n",
        "print(\"\")\n",
        "print(np.mean(a, axis=0))\n",
        "print(\"\")\n",
        "print(np.mean(a, axis=1))\n",
        "print(\"\")"
      ],
      "execution_count": 0,
      "outputs": [
        {
          "output_type": "stream",
          "text": [
            "[3 3 2]\n",
            "\n",
            "[2 4 3]\n",
            "\n",
            "9\n",
            "\n",
            "[8 7 9]\n",
            "\n",
            "[7 8 9]\n",
            "\n",
            "[3. 4. 5.]\n",
            "\n",
            "[5. 4. 4.]\n",
            "\n",
            "5.0\n",
            "\n",
            "[4.33333333 5.         5.66666667]\n",
            "\n",
            "[5. 5. 5.]\n",
            "\n"
          ],
          "name": "stdout"
        }
      ]
    },
    {
      "metadata": {
        "id": "9vgnSmU9H_gS",
        "colab_type": "code",
        "colab": {},
        "outputId": "ee2d5967-9b14-437c-9005-3597a483f1de"
      },
      "cell_type": "code",
      "source": [
        "a1 = np.array([1,2,3,4])\n",
        "print(np.std(a1))  # 표준편차\n",
        "print(np.var(a1))  # 분산"
      ],
      "execution_count": 0,
      "outputs": [
        {
          "output_type": "stream",
          "text": [
            "1.118033988749895\n",
            "1.25\n"
          ],
          "name": "stdout"
        }
      ]
    }
  ]
}