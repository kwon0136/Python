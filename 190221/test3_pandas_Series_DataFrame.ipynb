{
  "nbformat": 4,
  "nbformat_minor": 0,
  "metadata": {
    "colab": {
      "name": "test3_pandas_Series_DataFrame.ipynb",
      "version": "0.3.2",
      "provenance": [],
      "include_colab_link": true
    },
    "kernelspec": {
      "display_name": "Python 3",
      "language": "python",
      "name": "python3"
    }
  },
  "cells": [
    {
      "cell_type": "markdown",
      "metadata": {
        "id": "view-in-github",
        "colab_type": "text"
      },
      "source": [
        "<a href=\"https://colab.research.google.com/github/kwon0136/Python/blob/master/190221/test3_pandas_Series_DataFrame.ipynb\" target=\"_parent\"><img src=\"https://colab.research.google.com/assets/colab-badge.svg\" alt=\"Open In Colab\"/></a>"
      ]
    },
    {
      "metadata": {
        "id": "oKSFtLHvIFIf",
        "colab_type": "code",
        "colab": {},
        "outputId": "076019c4-1d79-4d74-d702-5eb1059b2409"
      },
      "cell_type": "code",
      "source": [
        "import pandas as pd\n",
        "s = pd.Series()  #Series는 1차원만 가능\n",
        "print(s)\n",
        "\n",
        "import numpy as np\n",
        "data = np.array([1,2,3,4])\n",
        "s2 = pd.Series(data)  # pandas에 numpy값 넣어주기\n",
        "print(s2)\n",
        "print(\"\")\n",
        "data2 = np.array(['홍길동','이순신','강감찬'])\n",
        "s3 = pd.Series(data2)\n",
        "print(s3)\n",
        "print('')\n",
        "## pandas.Series(data, index, dtype, copy)\n",
        "label = [100,200,300]   #index 지정(default값 : '0'부터)\n",
        "s4 = pd.Series(data2, label)\n",
        "print(s4)\n",
        "print('')\n",
        "\n",
        "data5 = {'a':100, 'b':200, 'c':300 } #dictionary --> key값이 index로\n",
        "s5 = pd.Series(data5)\n",
        "print(s5)\n",
        "\n",
        "s6 = pd.Series(data5, index=['a','c','b'])\n",
        "print(s6)\n",
        "print(\"\")\n",
        "\n",
        "data7 = [1,2,3,4]\n",
        "s7 = pd.Series(data7, index = [100,101,102,103])\n",
        "print(s7)"
      ],
      "execution_count": 0,
      "outputs": [
        {
          "output_type": "stream",
          "text": [
            "Series([], dtype: float64)\n",
            "0    1\n",
            "1    2\n",
            "2    3\n",
            "3    4\n",
            "dtype: int32\n",
            "\n",
            "0    홍길동\n",
            "1    이순신\n",
            "2    강감찬\n",
            "dtype: object\n",
            "\n",
            "100    홍길동\n",
            "200    이순신\n",
            "300    강감찬\n",
            "dtype: object\n",
            "\n",
            "a    100\n",
            "b    200\n",
            "c    300\n",
            "dtype: int64\n",
            "a    100\n",
            "c    300\n",
            "b    200\n",
            "dtype: int64\n",
            "\n",
            "100    1\n",
            "101    2\n",
            "102    3\n",
            "103    4\n",
            "dtype: int64\n"
          ],
          "name": "stdout"
        }
      ]
    },
    {
      "metadata": {
        "id": "NquHPBfHIFIm",
        "colab_type": "code",
        "colab": {},
        "outputId": "7e6d5592-2fa7-41ee-eb52-a2a5f8f083f4"
      },
      "cell_type": "code",
      "source": [
        "data8 = pd.Series([1,2,3,4], index=['a','b','c','d'])\n",
        "print(data8)\n",
        "print('')\n",
        "print(data8[0])\n",
        "print(data8['a'])\n",
        "print(\"\")\n",
        "print(data8[1:])\n",
        "print(\"\")\n",
        "print(data8[-3:])\n",
        "print(\"\")\n",
        "print(data8['a'])\n",
        "print(\"\")\n",
        "print(data8[['a','c','d']])  #특정 index의 값만 뽑아낼 때"
      ],
      "execution_count": 0,
      "outputs": [
        {
          "output_type": "stream",
          "text": [
            "a    1\n",
            "b    2\n",
            "c    3\n",
            "d    4\n",
            "dtype: int64\n",
            "\n",
            "1\n",
            "1\n",
            "\n",
            "b    2\n",
            "c    3\n",
            "d    4\n",
            "dtype: int64\n",
            "\n",
            "b    2\n",
            "c    3\n",
            "d    4\n",
            "dtype: int64\n",
            "\n",
            "1\n",
            "\n",
            "a    1\n",
            "c    3\n",
            "d    4\n",
            "dtype: int64\n"
          ],
          "name": "stdout"
        }
      ]
    },
    {
      "metadata": {
        "id": "5ftCzsBJIFIq",
        "colab_type": "text"
      },
      "cell_type": "markdown",
      "source": [
        "## pandas.DataFrame(data, index, columns, dtype, copy)\n",
        "## list, dict, Series, Numpy, ndarray...--> DataFrame 가능\n",
        "\n",
        "import pandas as pd\n",
        "data = [1,2,3,4]\n",
        "df = pd.DataFrame(data)\n",
        "print(df)"
      ]
    },
    {
      "metadata": {
        "id": "kHiC6cDnIFIr",
        "colab_type": "code",
        "colab": {},
        "outputId": "ec0bb05c-7b08-427f-af28-d728497db605"
      },
      "cell_type": "code",
      "source": [
        "data2 = [['item1',1],['item2',2],['item3',3]]\n",
        "np.array(data2).shape\n",
        "df2 = pd.DataFrame(data2)\n",
        "print(df2)\n",
        "print(\"\")\n",
        "df3 = pd.DataFrame(data2, columns=['Name','Qty']) # column name 지정\n",
        "print(df3)\n",
        "print(\"\")\n",
        "df4 = pd.DataFrame(data2, index = ['First','Second','Third'], columns=['Name','Qty'])\n",
        "print(df4)\n",
        "df4.index"
      ],
      "execution_count": 0,
      "outputs": [
        {
          "output_type": "stream",
          "text": [
            "       0  1\n",
            "0  item1  1\n",
            "1  item2  2\n",
            "2  item3  3\n",
            "\n",
            "    Name  Qty\n",
            "0  item1    1\n",
            "1  item2    2\n",
            "2  item3    3\n",
            "\n",
            "         Name  Qty\n",
            "First   item1    1\n",
            "Second  item2    2\n",
            "Third   item3    3\n"
          ],
          "name": "stdout"
        },
        {
          "output_type": "execute_result",
          "data": {
            "text/plain": [
              "Index(['First', 'Second', 'Third'], dtype='object')"
            ]
          },
          "metadata": {
            "tags": []
          },
          "execution_count": 37
        }
      ]
    },
    {
      "metadata": {
        "id": "zYiJ5OK_IFIu",
        "colab_type": "code",
        "colab": {},
        "outputId": "db5950d8-4c39-460d-aebb-4e962d56a9e4"
      },
      "cell_type": "code",
      "source": [
        "import pandas as pd\n",
        "df = pd.read_csv('seoul.csv', encoding='utf-8')\n",
        "df.head() # 상위값 가져오기_default값:5\n",
        "df['날짜'] # column을 가져온다\n",
        "df['지점']\n",
        "df.columns\n",
        "df.columns[0]\n",
        "df.columns[0:2]\n",
        "df.iloc[0] # index기준 slicing /순서를 나타내는 정수 기반의 2차원 인덱싱\n",
        "df.iloc[0:5]\n",
        "df.iloc[-1:]\n",
        "print(df.iloc[1:3])\n",
        "print(\"\")\n",
        "print(df[1:3])\n",
        "df.iloc[0:5, 0:3] # index기준 slicing /순서를 나타내는 정수 기반의 2차원 인덱싱\n",
        "df.iloc[0,0]\n",
        "df.iloc[[0,2,4],0:3] # row == 0,2,4 / column == [0:3]\n",
        "df[['날짜','지점']] #column select\n",
        "df[0:1] # rows slicing\n",
        "df.loc[[0,2,4],['날짜','지점']]"
      ],
      "execution_count": 0,
      "outputs": [
        {
          "output_type": "stream",
          "text": [
            "           날짜   지점  평균기온(℃)  최저기온(℃)  최고기온(℃)\n",
            "1  1907-10-02  108     16.2      7.9     22.0\n",
            "2  1907-10-03  108     16.2     13.1     21.3\n",
            "\n",
            "           날짜   지점  평균기온(℃)  최저기온(℃)  최고기온(℃)\n",
            "1  1907-10-02  108     16.2      7.9     22.0\n",
            "2  1907-10-03  108     16.2     13.1     21.3\n"
          ],
          "name": "stdout"
        },
        {
          "output_type": "execute_result",
          "data": {
            "text/html": [
              "<div>\n",
              "<style scoped>\n",
              "    .dataframe tbody tr th:only-of-type {\n",
              "        vertical-align: middle;\n",
              "    }\n",
              "\n",
              "    .dataframe tbody tr th {\n",
              "        vertical-align: top;\n",
              "    }\n",
              "\n",
              "    .dataframe thead th {\n",
              "        text-align: right;\n",
              "    }\n",
              "</style>\n",
              "<table border=\"1\" class=\"dataframe\">\n",
              "  <thead>\n",
              "    <tr style=\"text-align: right;\">\n",
              "      <th></th>\n",
              "      <th>날짜</th>\n",
              "      <th>지점</th>\n",
              "    </tr>\n",
              "  </thead>\n",
              "  <tbody>\n",
              "    <tr>\n",
              "      <th>0</th>\n",
              "      <td>1907-10-01</td>\n",
              "      <td>108</td>\n",
              "    </tr>\n",
              "    <tr>\n",
              "      <th>2</th>\n",
              "      <td>1907-10-03</td>\n",
              "      <td>108</td>\n",
              "    </tr>\n",
              "    <tr>\n",
              "      <th>4</th>\n",
              "      <td>1907-10-05</td>\n",
              "      <td>108</td>\n",
              "    </tr>\n",
              "  </tbody>\n",
              "</table>\n",
              "</div>"
            ],
            "text/plain": [
              "           날짜   지점\n",
              "0  1907-10-01  108\n",
              "2  1907-10-03  108\n",
              "4  1907-10-05  108"
            ]
          },
          "metadata": {
            "tags": []
          },
          "execution_count": 65
        }
      ]
    },
    {
      "metadata": {
        "id": "LpgJHk4lIFIy",
        "colab_type": "code",
        "colab": {},
        "outputId": "86892a94-6177-4dac-e3a8-42139cb7ce50"
      },
      "cell_type": "code",
      "source": [
        "d = {'one' : pd.Series([1,2,3], index=['a','b','c']), 'two':pd.Series([1,2,3,4], index=['a','b','c','d'])}\n",
        "df2 = pd.Series(d)\n",
        "df2\n",
        "\n",
        "df2['three'] = pd.Series([10,20,30], index=['a','b','c'])\n",
        "df2\n",
        "\n",
        "d1 = pd.DataFrame([[1,2,3],[4,5,6]], columns=['one','two','three'], index=['no1','no2'])\n",
        "print(d1)\n",
        "print('')\n",
        "\n",
        "d1['four'] = d1['one'] # add column\n",
        "print(d1)\n",
        "print('')\n",
        "\n",
        "del d1['four'] #delete column\n",
        "print(d1)\n",
        "\n"
      ],
      "execution_count": 0,
      "outputs": [
        {
          "output_type": "stream",
          "text": [
            "     one  two  three\n",
            "no1    1    2      3\n",
            "no2    4    5      6\n",
            "\n",
            "     one  two  three  four\n",
            "no1    1    2      3     1\n",
            "no2    4    5      6     4\n",
            "\n",
            "     one  two  three\n",
            "no1    1    2      3\n",
            "no2    4    5      6\n"
          ],
          "name": "stdout"
        }
      ]
    }
  ]
}