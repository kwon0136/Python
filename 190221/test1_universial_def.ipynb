{
  "nbformat": 4,
  "nbformat_minor": 0,
  "metadata": {
    "colab": {
      "name": "test1_universial def.ipynb",
      "version": "0.3.2",
      "provenance": [],
      "include_colab_link": true
    },
    "kernelspec": {
      "display_name": "Python 3",
      "language": "python",
      "name": "python3"
    }
  },
  "cells": [
    {
      "cell_type": "markdown",
      "metadata": {
        "id": "view-in-github",
        "colab_type": "text"
      },
      "source": [
        "<a href=\"https://colab.research.google.com/github/kwon0136/Python/blob/master/190221/test1_universial_def.ipynb\" target=\"_parent\"><img src=\"https://colab.research.google.com/assets/colab-badge.svg\" alt=\"Open In Colab\"/></a>"
      ]
    },
    {
      "metadata": {
        "id": "0_LdncE-H53k",
        "colab_type": "code",
        "colab": {},
        "outputId": "11cc9ac0-bf21-4d05-dcbb-d5cd895a24f4"
      },
      "cell_type": "code",
      "source": [
        "import numpy as np\n",
        "x = np.array([[1,2],[3,4]], dtype = np.float)\n",
        "y = np.array([[5,6],[7,8]], dtype = np.float)\n",
        "print(x)\n",
        "print(\"\")\n",
        "print(y)\n",
        "print(\"\")\n",
        "print(x+y)\n",
        "print(\"\")\n",
        "print(np.add(x,y))\n",
        "print(\"\")\n",
        "print(x-y)\n",
        "print(\"\")\n",
        "print(np.subtract(x,y))\n",
        "print(\"\")\n",
        "print(np.divide(x,y))\n",
        "print(\"\")\n",
        "print(np.sqrt(x)) #제곱근\n",
        "print(\"\")\n",
        "print(np.sum(x))\n",
        "print(\"\")\n",
        "print(np.sum(x, axis=0)) #col 기준 합\n",
        "print(\"\")\n",
        "print(np.sum(x, axis=1)) #row 기준 합\n",
        "print(\"\")"
      ],
      "execution_count": 0,
      "outputs": [
        {
          "output_type": "stream",
          "text": [
            "[[1. 2.]\n",
            " [3. 4.]]\n",
            "\n",
            "[[5. 6.]\n",
            " [7. 8.]]\n",
            "\n",
            "[[ 6.  8.]\n",
            " [10. 12.]]\n",
            "\n",
            "[[ 6.  8.]\n",
            " [10. 12.]]\n",
            "\n",
            "[[-4. -4.]\n",
            " [-4. -4.]]\n",
            "\n",
            "[[-4. -4.]\n",
            " [-4. -4.]]\n",
            "\n",
            "[[0.2        0.33333333]\n",
            " [0.42857143 0.5       ]]\n",
            "\n",
            "[[1.         1.41421356]\n",
            " [1.73205081 2.        ]]\n",
            "\n",
            "10.0\n",
            "\n",
            "[4. 6.]\n",
            "\n",
            "[3. 7.]\n",
            "\n"
          ],
          "name": "stdout"
        }
      ]
    },
    {
      "metadata": {
        "id": "HKnMbddTH53s",
        "colab_type": "code",
        "colab": {},
        "outputId": "260f0943-3e2a-4973-9528-f9e98febfb51"
      },
      "cell_type": "code",
      "source": [
        "print(x)\n",
        "print(\"\")\n",
        "print(x.T) #transfer\n",
        "print(\"\")\n",
        "z = np.array([[1,2],[3,4],[5,6]])\n",
        "z.shape\n",
        "print(z)\n",
        "print(\"\")\n",
        "print(z.T)\n",
        "print(\"\")\n",
        "print(z.T.shape)"
      ],
      "execution_count": 0,
      "outputs": [
        {
          "output_type": "stream",
          "text": [
            "[[1. 2.]\n",
            " [3. 4.]]\n",
            "\n",
            "[[1. 3.]\n",
            " [2. 4.]]\n",
            "\n",
            "[[1 2]\n",
            " [3 4]\n",
            " [5 6]]\n",
            "\n",
            "[[1 3 5]\n",
            " [2 4 6]]\n",
            "\n",
            "(2, 3)\n"
          ],
          "name": "stdout"
        }
      ]
    },
    {
      "metadata": {
        "id": "VL0oygozH53w",
        "colab_type": "code",
        "colab": {},
        "outputId": "1c2dde28-b8aa-4823-cf8c-a803cc7c0abf"
      },
      "cell_type": "code",
      "source": [
        "x1 = np.array([[1,2,3],[4,5,6],[7,8,9],[10,11,12]])\n",
        "y1 = np.array([1,0,1])\n",
        "y2 = x1 + y1\n",
        "print(x1.shape)\n",
        "print(\"\")\n",
        "print(y1.shape)\n",
        "print(\"\")\n",
        "print(y2.shape)\n",
        "print(\"\")\n",
        "print(y2)"
      ],
      "execution_count": 0,
      "outputs": [
        {
          "output_type": "stream",
          "text": [
            "(4, 3)\n",
            "\n",
            "(3,)\n",
            "\n",
            "(4, 3)\n",
            "\n",
            "[[ 2  2  4]\n",
            " [ 5  5  7]\n",
            " [ 8  8 10]\n",
            " [11 11 13]]\n"
          ],
          "name": "stdout"
        }
      ]
    }
  ]
}