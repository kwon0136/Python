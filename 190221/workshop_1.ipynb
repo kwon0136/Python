{
  "nbformat": 4,
  "nbformat_minor": 0,
  "metadata": {
    "colab": {
      "name": "workshop_1.ipynb",
      "version": "0.3.2",
      "provenance": [],
      "include_colab_link": true
    },
    "kernelspec": {
      "display_name": "Python 3",
      "language": "python",
      "name": "python3"
    }
  },
  "cells": [
    {
      "cell_type": "markdown",
      "metadata": {
        "id": "view-in-github",
        "colab_type": "text"
      },
      "source": [
        "<a href=\"https://colab.research.google.com/github/kwon0136/Python/blob/master/190221/workshop_1.ipynb\" target=\"_parent\"><img src=\"https://colab.research.google.com/assets/colab-badge.svg\" alt=\"Open In Colab\"/></a>"
      ]
    },
    {
      "metadata": {
        "id": "n7BuExG3IQk0",
        "colab_type": "code",
        "colab": {},
        "outputId": "2e34181f-6b62-4766-d3f2-de9a205946bd"
      },
      "cell_type": "code",
      "source": [
        "#교통사고정보를 이용하여 시도별 발생건수, 사상자수, 사망자수, 중상자수, 경상자수, 부상신고자수의 합계를 구하고, 그래프로 출력\n",
        "#pandas or numpy 사용\n",
        "#관할경찰서 기준\n",
        "\n",
        "import pandas as pd\n",
        "import numpy as np\n",
        "df = pd.read_csv(\"workshop1.csv\",encoding='EUC-KR')\n",
        "\n",
        "data = pd.DataFrame(df)\n",
        "\n",
        "#print(data.iloc[0:,6:12])\n",
        "\n",
        "data.iloc[0,4]\n",
        "data['발생건수']\n",
        "data.iloc[0,4].find(\"서울\")\n",
        "\n",
        "ac_0 = []\n",
        "ac_1 = []\n",
        "ac_2 = []\n",
        "ac_3 = []\n",
        "ac_4 = []\n",
        "ac_5 = []\n",
        "ac_6 = []\n",
        "ac_7 = []\n",
        "ac_8 = []\n",
        "ac_9 = []\n",
        "ac_10 = []\n",
        "ac_11 = []\n",
        "\n",
        "for i in range(0,386):\n",
        "    if data.iloc[i,4].find(\"서울\") != -1:\n",
        "        ac_0.append(data.iloc[i, 6:12])\n",
        "    elif  data.iloc[i,4].find(\"경기\") != -1:\n",
        "        ac_1.append(data.iloc[i, 6:12])\n",
        "    elif  data.iloc[i,4].find(\"인천\") != -1:\n",
        "        ac_2.append(data.iloc[i, 6:12])\n",
        "    elif  data.iloc[i,4].find(\"울산\") != -1:\n",
        "        ac_3.append(data.iloc[i, 6:12])\n",
        "    elif  data.iloc[i,4].find(\"대구\") != -1:\n",
        "        ac_4.append(data.iloc[i, 6:12])\n",
        "    elif  data.iloc[i,4].find(\"부산\") != -1:\n",
        "        ac_5.append(data.iloc[i, 6:12])\n",
        "    elif  data.iloc[i,4].find(\"경상\") != -1:\n",
        "        ac_6.append(data.iloc[i, 6:12])\n",
        "    elif  data.iloc[i,4].find(\"광주\") != -1:\n",
        "        ac_7.append(data.iloc[i, 6:12])\n",
        "    elif  data.iloc[i,4].find(\"대전\") != -1:\n",
        "        ac_8.append(data.iloc[i, 6:12])\n",
        "    elif  data.iloc[i,4].find(\"전라\") != -1:\n",
        "        ac_9.append(data.iloc[i, 6:12])\n",
        "    elif  data.iloc[i,4].find(\"충청\") != -1:\n",
        "        ac_10.append(data.iloc[i, 6:12])\n",
        "    else:\n",
        "        ac_11.append(data.iloc[i, 6:12])\n",
        "region = ['서울','경기','인천','울산','대구','부산','경상','광주','대전','전라','충청','강원']  \n",
        "#region = [1,2,3,4,5,6,7,8,9,0,11,12]\n",
        "result_0 = [0,0,0,0,0,0]\n",
        "result_1 = [0,0,0,0,0,0]\n",
        "result_2 = [0,0,0,0,0,0]\n",
        "result_3 = [0,0,0,0,0,0]\n",
        "result_4 = [0,0,0,0,0,0]\n",
        "result_5 = [0,0,0,0,0,0]\n",
        "result_6 = [0,0,0,0,0,0]\n",
        "result_7 = [0,0,0,0,0,0]\n",
        "result_8 = [0,0,0,0,0,0]\n",
        "result_9 = [0,0,0,0,0,0]\n",
        "result_10 = [0,0,0,0,0,0]\n",
        "result_11 = [0,0,0,0,0,0]\n",
        "\n",
        "for k in range(0,12):\n",
        "    for i in range(0,6):\n",
        "        for j in range(0,len(ac_k)):\n",
        "            result_k[i] = result_k[i]+ac_k[j][i]\n",
        "\n",
        "print(result_서울)\n",
        "        \n",
        "#print(ac_서울[0][0])\n",
        "#print(ac_서울[1][0])\n",
        "        \n",
        "        \n",
        "\n",
        "\n",
        "#a1 = data[(data.str.contains('서울특')) == True]\n",
        "\n"
      ],
      "execution_count": 0,
      "outputs": [
        {
          "output_type": "error",
          "ename": "NameError",
          "evalue": "name 'result_k' is not defined",
          "traceback": [
            "\u001b[1;31m---------------------------------------------------------------------------\u001b[0m",
            "\u001b[1;31mNameError\u001b[0m                                 Traceback (most recent call last)",
            "\u001b[1;32m<ipython-input-83-1bda181181d6>\u001b[0m in \u001b[0;36m<module>\u001b[1;34m\u001b[0m\n\u001b[0;32m     71\u001b[0m     \u001b[1;32mfor\u001b[0m \u001b[0mi\u001b[0m \u001b[1;32min\u001b[0m \u001b[0mrange\u001b[0m\u001b[1;33m(\u001b[0m\u001b[1;36m0\u001b[0m\u001b[1;33m,\u001b[0m\u001b[1;36m6\u001b[0m\u001b[1;33m)\u001b[0m\u001b[1;33m:\u001b[0m\u001b[1;33m\u001b[0m\u001b[1;33m\u001b[0m\u001b[0m\n\u001b[0;32m     72\u001b[0m         \u001b[1;32mfor\u001b[0m \u001b[0mj\u001b[0m \u001b[1;32min\u001b[0m \u001b[0mrange\u001b[0m\u001b[1;33m(\u001b[0m\u001b[1;36m0\u001b[0m\u001b[1;33m,\u001b[0m\u001b[1;36m5\u001b[0m\u001b[1;33m)\u001b[0m\u001b[1;33m:\u001b[0m\u001b[1;33m\u001b[0m\u001b[1;33m\u001b[0m\u001b[0m\n\u001b[1;32m---> 73\u001b[1;33m             \u001b[0mresult_k\u001b[0m\u001b[1;33m[\u001b[0m\u001b[0mi\u001b[0m\u001b[1;33m]\u001b[0m \u001b[1;33m=\u001b[0m \u001b[0mresult_k\u001b[0m\u001b[1;33m[\u001b[0m\u001b[0mi\u001b[0m\u001b[1;33m]\u001b[0m\u001b[1;33m+\u001b[0m\u001b[0mac_k\u001b[0m\u001b[1;33m[\u001b[0m\u001b[0mj\u001b[0m\u001b[1;33m]\u001b[0m\u001b[1;33m[\u001b[0m\u001b[0mi\u001b[0m\u001b[1;33m]\u001b[0m\u001b[1;33m\u001b[0m\u001b[1;33m\u001b[0m\u001b[0m\n\u001b[0m\u001b[0;32m     74\u001b[0m \u001b[1;33m\u001b[0m\u001b[0m\n\u001b[0;32m     75\u001b[0m \u001b[0mprint\u001b[0m\u001b[1;33m(\u001b[0m\u001b[0mresult_서울\u001b[0m\u001b[1;33m)\u001b[0m\u001b[1;33m\u001b[0m\u001b[1;33m\u001b[0m\u001b[0m\n",
            "\u001b[1;31mNameError\u001b[0m: name 'result_k' is not defined"
          ]
        }
      ]
    }
  ]
}