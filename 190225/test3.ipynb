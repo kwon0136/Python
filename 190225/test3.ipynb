{
  "nbformat": 4,
  "nbformat_minor": 0,
  "metadata": {
    "colab": {
      "name": "test3.ipynb",
      "version": "0.3.2",
      "provenance": [],
      "include_colab_link": true
    },
    "language_info": {
      "codemirror_mode": {
        "name": "ipython",
        "version": 3
      },
      "file_extension": ".py",
      "mimetype": "text/x-python",
      "name": "python",
      "nbconvert_exporter": "python",
      "pygments_lexer": "ipython3",
      "version": "3.7.1"
    },
    "kernelspec": {
      "display_name": "Python 3",
      "language": "python",
      "name": "python3"
    }
  },
  "cells": [
    {
      "cell_type": "markdown",
      "metadata": {
        "id": "view-in-github",
        "colab_type": "text"
      },
      "source": [
        "<a href=\"https://colab.research.google.com/github/kwon0136/Python/blob/master/190225/test3.ipynb\" target=\"_parent\"><img src=\"https://colab.research.google.com/assets/colab-badge.svg\" alt=\"Open In Colab\"/></a>"
      ]
    },
    {
      "metadata": {
        "id": "xbaiSSHutSSs",
        "colab_type": "code",
        "colab": {},
        "outputId": "705ea657-6c2e-4b2e-dd88-f67d5377244c"
      },
      "cell_type": "code",
      "source": [
        "import pandas as pd\n",
        "import numpy as np\n",
        "\n",
        "def add(a, b):\n",
        "    return a+ b\n",
        "\n",
        "c = add(1,2)\n",
        "print(c)\n",
        "\n",
        "\n",
        "# pipe 표 기능 응용 프로그램\n",
        "df = pd.DataFrame(np.random.rand(5,3), columns=['col1','col2','col3'])\n",
        "print(df)\n",
        "print('')\n",
        "print(df.pipe(add, 2)) # 각 항목에 2를 더함\n",
        "print('')\n",
        "\n",
        "#apply() 행 또는 열 Wise 함수 응용 프로그램\n",
        "print(df.apply(np.mean)) # row 기준\n",
        "print('')\n",
        "print(df.apply(np.mean, axis=1)) #column기준\n",
        "print('')\n",
        "\n",
        "print(df.apply(lambda x: x.max() - x.min()))\n",
        "print('')\n",
        "\n",
        "# rename\n",
        "df4 = pd.DataFrame(np.random.rand(5,3), columns=['col1','col2','col3'])\n",
        "\n",
        "df4.rename(columns= {'col1':'cl1', 'col2':'cl2'})\n",
        "df4.rename(index= {0:'one',1:'two'})\n",
        "\n"
      ],
      "execution_count": 0,
      "outputs": [
        {
          "output_type": "stream",
          "text": [
            "3\n",
            "       col1      col2      col3\n",
            "0  0.843150  0.535280  0.246346\n",
            "1  0.252211  0.131912  0.683845\n",
            "2  0.062380  0.787531  0.361607\n",
            "3  0.757348  0.998195  0.887187\n",
            "4  0.755153  0.823132  0.732898\n",
            "\n",
            "       col1      col2      col3\n",
            "0  2.843150  2.535280  2.246346\n",
            "1  2.252211  2.131912  2.683845\n",
            "2  2.062380  2.787531  2.361607\n",
            "3  2.757348  2.998195  2.887187\n",
            "4  2.755153  2.823132  2.732898\n",
            "\n",
            "col1    0.534048\n",
            "col2    0.655210\n",
            "col3    0.582377\n",
            "dtype: float64\n",
            "\n",
            "0    0.541592\n",
            "1    0.355989\n",
            "2    0.403839\n",
            "3    0.880910\n",
            "4    0.770394\n",
            "dtype: float64\n",
            "\n",
            "col1    0.780770\n",
            "col2    0.866283\n",
            "col3    0.640841\n",
            "dtype: float64\n",
            "\n"
          ],
          "name": "stdout"
        },
        {
          "output_type": "execute_result",
          "data": {
            "text/html": [
              "<div>\n",
              "<style scoped>\n",
              "    .dataframe tbody tr th:only-of-type {\n",
              "        vertical-align: middle;\n",
              "    }\n",
              "\n",
              "    .dataframe tbody tr th {\n",
              "        vertical-align: top;\n",
              "    }\n",
              "\n",
              "    .dataframe thead th {\n",
              "        text-align: right;\n",
              "    }\n",
              "</style>\n",
              "<table border=\"1\" class=\"dataframe\">\n",
              "  <thead>\n",
              "    <tr style=\"text-align: right;\">\n",
              "      <th></th>\n",
              "      <th>col1</th>\n",
              "      <th>col2</th>\n",
              "      <th>col3</th>\n",
              "    </tr>\n",
              "  </thead>\n",
              "  <tbody>\n",
              "    <tr>\n",
              "      <th>one</th>\n",
              "      <td>0.442883</td>\n",
              "      <td>0.160653</td>\n",
              "      <td>0.443625</td>\n",
              "    </tr>\n",
              "    <tr>\n",
              "      <th>two</th>\n",
              "      <td>0.549413</td>\n",
              "      <td>0.955007</td>\n",
              "      <td>0.546430</td>\n",
              "    </tr>\n",
              "    <tr>\n",
              "      <th>2</th>\n",
              "      <td>0.070511</td>\n",
              "      <td>0.708996</td>\n",
              "      <td>0.332013</td>\n",
              "    </tr>\n",
              "    <tr>\n",
              "      <th>3</th>\n",
              "      <td>0.603065</td>\n",
              "      <td>0.837689</td>\n",
              "      <td>0.254912</td>\n",
              "    </tr>\n",
              "    <tr>\n",
              "      <th>4</th>\n",
              "      <td>0.846533</td>\n",
              "      <td>0.169423</td>\n",
              "      <td>0.403776</td>\n",
              "    </tr>\n",
              "  </tbody>\n",
              "</table>\n",
              "</div>"
            ],
            "text/plain": [
              "         col1      col2      col3\n",
              "one  0.442883  0.160653  0.443625\n",
              "two  0.549413  0.955007  0.546430\n",
              "2    0.070511  0.708996  0.332013\n",
              "3    0.603065  0.837689  0.254912\n",
              "4    0.846533  0.169423  0.403776"
            ]
          },
          "metadata": {
            "tags": []
          },
          "execution_count": 24
        }
      ]
    },
    {
      "metadata": {
        "id": "s8xzTFlutSSz",
        "colab_type": "code",
        "colab": {},
        "outputId": "3c0c6d9c-a908-42d3-adcc-9a599188ec88"
      },
      "cell_type": "code",
      "source": [
        "# DataFrame Iteration\n",
        "\n",
        "df5 = pd.DataFrame(np.random.rand(5,3), columns=['col1','col2','col3'])\n",
        "\n",
        "df5\n",
        "for col in df5:\n",
        "    print(col)\n",
        "\n",
        "print('')    \n",
        "    \n",
        "for temp in df5.iteritems():\n",
        "    print(temp)\n",
        "print('')\n",
        "\n",
        "for key,value in df5.iteritems():\n",
        "    print(key,value)\n",
        "                         \n",
        "print('')\n",
        "\n",
        "for row_index, row in df5.iterrows():\n",
        "    print(row_index, row)\n",
        "    \n",
        "print('')\n",
        "\n",
        "for row in df5.itertuples():\n",
        "    print(row)"
      ],
      "execution_count": 0,
      "outputs": [
        {
          "output_type": "stream",
          "text": [
            "col1\n",
            "col2\n",
            "col3\n",
            "\n",
            "('col1', 0    0.789570\n",
            "1    0.521146\n",
            "2    0.982165\n",
            "3    0.863352\n",
            "4    0.513965\n",
            "Name: col1, dtype: float64)\n",
            "('col2', 0    0.015693\n",
            "1    0.746248\n",
            "2    0.541610\n",
            "3    0.283947\n",
            "4    0.479936\n",
            "Name: col2, dtype: float64)\n",
            "('col3', 0    0.186928\n",
            "1    0.026174\n",
            "2    0.913703\n",
            "3    0.495315\n",
            "4    0.780313\n",
            "Name: col3, dtype: float64)\n",
            "\n",
            "col1 0    0.789570\n",
            "1    0.521146\n",
            "2    0.982165\n",
            "3    0.863352\n",
            "4    0.513965\n",
            "Name: col1, dtype: float64\n",
            "col2 0    0.015693\n",
            "1    0.746248\n",
            "2    0.541610\n",
            "3    0.283947\n",
            "4    0.479936\n",
            "Name: col2, dtype: float64\n",
            "col3 0    0.186928\n",
            "1    0.026174\n",
            "2    0.913703\n",
            "3    0.495315\n",
            "4    0.780313\n",
            "Name: col3, dtype: float64\n",
            "\n",
            "0 col1    0.789570\n",
            "col2    0.015693\n",
            "col3    0.186928\n",
            "Name: 0, dtype: float64\n",
            "1 col1    0.521146\n",
            "col2    0.746248\n",
            "col3    0.026174\n",
            "Name: 1, dtype: float64\n",
            "2 col1    0.982165\n",
            "col2    0.541610\n",
            "col3    0.913703\n",
            "Name: 2, dtype: float64\n",
            "3 col1    0.863352\n",
            "col2    0.283947\n",
            "col3    0.495315\n",
            "Name: 3, dtype: float64\n",
            "4 col1    0.513965\n",
            "col2    0.479936\n",
            "col3    0.780313\n",
            "Name: 4, dtype: float64\n",
            "\n",
            "Pandas(Index=0, col1=0.7895702296194036, col2=0.01569344822376917, col3=0.1869284275781221)\n",
            "Pandas(Index=1, col1=0.5211462613722734, col2=0.7462484381787569, col3=0.02617369894068089)\n",
            "Pandas(Index=2, col1=0.9821652168779218, col2=0.5416101179472695, col3=0.9137029683903757)\n",
            "Pandas(Index=3, col1=0.8633516212433331, col2=0.28394689895932546, col3=0.49531521257066424)\n",
            "Pandas(Index=4, col1=0.5139648021508849, col2=0.4799359810712793, col3=0.7803130467433528)\n"
          ],
          "name": "stdout"
        }
      ]
    },
    {
      "metadata": {
        "id": "WN0uRvb_tSS2",
        "colab_type": "code",
        "colab": {}
      },
      "cell_type": "code",
      "source": [
        ""
      ],
      "execution_count": 0,
      "outputs": []
    },
    {
      "metadata": {
        "id": "fJh9xV5BtSS4",
        "colab_type": "code",
        "colab": {}
      },
      "cell_type": "code",
      "source": [
        ""
      ],
      "execution_count": 0,
      "outputs": []
    },
    {
      "metadata": {
        "id": "PrDhBAX7tSS6",
        "colab_type": "code",
        "colab": {}
      },
      "cell_type": "code",
      "source": [
        ""
      ],
      "execution_count": 0,
      "outputs": []
    },
    {
      "metadata": {
        "id": "yR_7OtE4tSS8",
        "colab_type": "code",
        "colab": {}
      },
      "cell_type": "code",
      "source": [
        ""
      ],
      "execution_count": 0,
      "outputs": []
    },
    {
      "metadata": {
        "id": "HbssdsFStSS_",
        "colab_type": "code",
        "colab": {}
      },
      "cell_type": "code",
      "source": [
        ""
      ],
      "execution_count": 0,
      "outputs": []
    },
    {
      "metadata": {
        "id": "jcgQdRUvtSTB",
        "colab_type": "code",
        "colab": {}
      },
      "cell_type": "code",
      "source": [
        ""
      ],
      "execution_count": 0,
      "outputs": []
    },
    {
      "metadata": {
        "id": "k8HSp492tSTE",
        "colab_type": "code",
        "colab": {}
      },
      "cell_type": "code",
      "source": [
        ""
      ],
      "execution_count": 0,
      "outputs": []
    }
  ]
}