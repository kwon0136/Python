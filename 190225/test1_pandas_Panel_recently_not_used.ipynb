{
  "nbformat": 4,
  "nbformat_minor": 0,
  "metadata": {
    "colab": {
      "name": "test1_pandas.Panel_recently not used.ipynb",
      "version": "0.3.2",
      "provenance": [],
      "include_colab_link": true
    },
    "language_info": {
      "codemirror_mode": {
        "name": "ipython",
        "version": 3
      },
      "file_extension": ".py",
      "mimetype": "text/x-python",
      "name": "python",
      "nbconvert_exporter": "python",
      "pygments_lexer": "ipython3",
      "version": "3.7.1"
    },
    "kernelspec": {
      "display_name": "Python 3",
      "language": "python",
      "name": "python3"
    }
  },
  "cells": [
    {
      "cell_type": "markdown",
      "metadata": {
        "id": "view-in-github",
        "colab_type": "text"
      },
      "source": [
        "<a href=\"https://colab.research.google.com/github/kwon0136/Python/blob/master/190225/test1_pandas_Panel_recently_not_used.ipynb\" target=\"_parent\"><img src=\"https://colab.research.google.com/assets/colab-badge.svg\" alt=\"Open In Colab\"/></a>"
      ]
    },
    {
      "metadata": {
        "id": "C7BpUc4vtE5w",
        "colab_type": "code",
        "colab": {},
        "outputId": "9515949f-b737-4b92-fae3-ae988a39d761"
      },
      "cell_type": "code",
      "source": [
        "## Panel\n",
        "# pandas.Panel(data, items, major_axis, minor_axis, dtype)\n",
        "import pandas as pd\n",
        "import numpy as np\n",
        "data = np.random.rand(2,4,5)\n",
        "p = pd.Panel(data)\n",
        "\n",
        "data2 = {'item1':pd.DataFrame(np.random.rand(4,3)), 'item2':pd.DataFrame(np.random.rand(4,3))}\n",
        "p2 = pd.Panel(data2)\n",
        "p2"
      ],
      "execution_count": 0,
      "outputs": [
        {
          "output_type": "execute_result",
          "data": {
            "text/plain": [
              "<class 'pandas.core.panel.Panel'>\n",
              "Dimensions: 2 (items) x 4 (major_axis) x 3 (minor_axis)\n",
              "Items axis: item1 to item2\n",
              "Major_axis axis: 0 to 3\n",
              "Minor_axis axis: 0 to 2"
            ]
          },
          "metadata": {
            "tags": []
          },
          "execution_count": 4
        }
      ]
    }
  ]
}