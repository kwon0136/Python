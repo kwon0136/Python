{
  "nbformat": 4,
  "nbformat_minor": 0,
  "metadata": {
    "colab": {
      "name": "test5_Groupby.ipynb",
      "version": "0.3.2",
      "provenance": [],
      "include_colab_link": true
    },
    "language_info": {
      "codemirror_mode": {
        "name": "ipython",
        "version": 3
      },
      "file_extension": ".py",
      "mimetype": "text/x-python",
      "name": "python",
      "nbconvert_exporter": "python",
      "pygments_lexer": "ipython3",
      "version": "3.7.1"
    },
    "kernelspec": {
      "display_name": "Python 3",
      "language": "python",
      "name": "python3"
    }
  },
  "cells": [
    {
      "cell_type": "markdown",
      "metadata": {
        "id": "view-in-github",
        "colab_type": "text"
      },
      "source": [
        "<a href=\"https://colab.research.google.com/github/kwon0136/Python/blob/master/190225/test5_Groupby.ipynb\" target=\"_parent\"><img src=\"https://colab.research.google.com/assets/colab-badge.svg\" alt=\"Open In Colab\"/></a>"
      ]
    },
    {
      "metadata": {
        "id": "BXmoi5b5BstV",
        "colab_type": "code",
        "colab": {},
        "outputId": "4a42aec2-c261-48e0-c6a4-6d1a60783ae6"
      },
      "cell_type": "code",
      "source": [
        "import pandas as pd\n",
        "import numpy as np\n",
        "\n",
        "data = {'Team':['Tom','John','John','Amy'], 'Rank':[1,2,2,3], 'Year':[2014,2016,2016,2018], 'Point':[10,15,20,10]}\n",
        "df = pd.DataFrame(data)\n",
        "df.groupby('Team')['Point'].mean()\n",
        "df.groupby('Team').groups\n",
        "\n",
        "df2 = df.groupby('Team')\n",
        "for name,group in df2:\n",
        "    print(name,group)"
      ],
      "execution_count": 0,
      "outputs": [
        {
          "output_type": "stream",
          "text": [
            "Amy   Team  Rank  Year  Point\n",
            "3  Amy     3  2018     10\n",
            "John    Team  Rank  Year  Point\n",
            "1  John     2  2016     15\n",
            "2  John     2  2016     20\n",
            "Tom   Team  Rank  Year  Point\n",
            "0  Tom     1  2014     10\n"
          ],
          "name": "stdout"
        }
      ]
    }
  ]
}