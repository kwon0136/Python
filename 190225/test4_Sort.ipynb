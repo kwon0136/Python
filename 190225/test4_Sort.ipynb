{
  "nbformat": 4,
  "nbformat_minor": 0,
  "metadata": {
    "colab": {
      "name": "test4_Sort.ipynb",
      "version": "0.3.2",
      "provenance": [],
      "include_colab_link": true
    },
    "language_info": {
      "codemirror_mode": {
        "name": "ipython",
        "version": 3
      },
      "file_extension": ".py",
      "mimetype": "text/x-python",
      "name": "python",
      "nbconvert_exporter": "python",
      "pygments_lexer": "ipython3",
      "version": "3.7.1"
    },
    "kernelspec": {
      "display_name": "Python 3",
      "language": "python",
      "name": "python3"
    }
  },
  "cells": [
    {
      "cell_type": "markdown",
      "metadata": {
        "id": "view-in-github",
        "colab_type": "text"
      },
      "source": [
        "<a href=\"https://colab.research.google.com/github/kwon0136/Python/blob/master/190225/test4_Sort.ipynb\" target=\"_parent\"><img src=\"https://colab.research.google.com/assets/colab-badge.svg\" alt=\"Open In Colab\"/></a>"
      ]
    },
    {
      "metadata": {
        "scrolled": true,
        "id": "p1mdlBwr0Ali",
        "colab_type": "code",
        "colab": {},
        "outputId": "abc735fe-d733-455d-9df5-b8a01ae7c569"
      },
      "cell_type": "code",
      "source": [
        "import pandas as pd\n",
        "import numpy as np\n",
        "\n",
        "df = pd.DataFrame(np.random.rand(5,2), index=[2,1,0,3,4])\n",
        "df.sort_index() # index기준으로 sorting\n",
        "df.sort_index(ascending = False) #index기준 Descending\n",
        "df.sort_index(axis=1) # column 기준 정렬\n",
        "df.sort_index(axis=1, ascending = False) # column 기준 Descending\n",
        "\n",
        "df.rename (columns={df.columns[0]:'col1', df.columns[1]:'col2'}, inplace=True)\n",
        "\n",
        "df.sort_values(by='col1')\n",
        "df.sort_values(by='col2')\n",
        "df.sort_values(by=['col1','col2'], ascending=[True,False]) # col1 ascending, col2 descending"
      ],
      "execution_count": 0,
      "outputs": [
        {
          "output_type": "execute_result",
          "data": {
            "text/html": [
              "<div>\n",
              "<style scoped>\n",
              "    .dataframe tbody tr th:only-of-type {\n",
              "        vertical-align: middle;\n",
              "    }\n",
              "\n",
              "    .dataframe tbody tr th {\n",
              "        vertical-align: top;\n",
              "    }\n",
              "\n",
              "    .dataframe thead th {\n",
              "        text-align: right;\n",
              "    }\n",
              "</style>\n",
              "<table border=\"1\" class=\"dataframe\">\n",
              "  <thead>\n",
              "    <tr style=\"text-align: right;\">\n",
              "      <th></th>\n",
              "      <th>col1</th>\n",
              "      <th>col2</th>\n",
              "    </tr>\n",
              "  </thead>\n",
              "  <tbody>\n",
              "    <tr>\n",
              "      <th>4</th>\n",
              "      <td>0.408137</td>\n",
              "      <td>0.460420</td>\n",
              "    </tr>\n",
              "    <tr>\n",
              "      <th>1</th>\n",
              "      <td>0.588474</td>\n",
              "      <td>0.816659</td>\n",
              "    </tr>\n",
              "    <tr>\n",
              "      <th>0</th>\n",
              "      <td>0.643525</td>\n",
              "      <td>0.451433</td>\n",
              "    </tr>\n",
              "    <tr>\n",
              "      <th>3</th>\n",
              "      <td>0.734627</td>\n",
              "      <td>0.912109</td>\n",
              "    </tr>\n",
              "    <tr>\n",
              "      <th>2</th>\n",
              "      <td>0.826025</td>\n",
              "      <td>0.693495</td>\n",
              "    </tr>\n",
              "  </tbody>\n",
              "</table>\n",
              "</div>"
            ],
            "text/plain": [
              "       col1      col2\n",
              "4  0.408137  0.460420\n",
              "1  0.588474  0.816659\n",
              "0  0.643525  0.451433\n",
              "3  0.734627  0.912109\n",
              "2  0.826025  0.693495"
            ]
          },
          "metadata": {
            "tags": []
          },
          "execution_count": 30
        }
      ]
    },
    {
      "metadata": {
        "id": "FeQe-54y0Alq",
        "colab_type": "code",
        "colab": {},
        "outputId": "89b2d66d-fb67-4228-c70c-d86706767fcf"
      },
      "cell_type": "code",
      "source": [
        "# Missing Data\n",
        "df2 = pd.DataFrame(np.random.rand(5,3), index=['a','c','e','f','h'], columns=['one','two','three'])\n",
        "df3 = df2.reindex(['a','b','c','d','e','f','g','h']) # 공백값 만들어 준다\n",
        "df3['one'].isnull() # null값 --> True\n",
        "df3['one'].notnull() # notnull --> True\n",
        "df3['one'].sum()\n"
      ],
      "execution_count": 0,
      "outputs": [
        {
          "output_type": "execute_result",
          "data": {
            "text/plain": [
              "1.4936347251069129"
            ]
          },
          "metadata": {
            "tags": []
          },
          "execution_count": 41
        }
      ]
    },
    {
      "metadata": {
        "id": "4zkHckjR0Alt",
        "colab_type": "code",
        "colab": {},
        "outputId": "4975215b-c9a0-46a0-e43d-483fbe901ec6"
      },
      "cell_type": "code",
      "source": [
        "df4 = pd.DataFrame(index=[0,1,2,3,4,5], columns=['one','two'])\n",
        "print(df4)\n",
        "print(df4.sum())\n",
        "print(df4['one'].sum())"
      ],
      "execution_count": 0,
      "outputs": [
        {
          "output_type": "stream",
          "text": [
            "   one  two\n",
            "0  NaN  NaN\n",
            "1  NaN  NaN\n",
            "2  NaN  NaN\n",
            "3  NaN  NaN\n",
            "4  NaN  NaN\n",
            "5  NaN  NaN\n",
            "one    0.0\n",
            "two    0.0\n",
            "dtype: float64\n",
            "0\n"
          ],
          "name": "stdout"
        }
      ]
    },
    {
      "metadata": {
        "id": "ruV-c3Hr0Alw",
        "colab_type": "code",
        "colab": {},
        "outputId": "be10b5f8-af18-4fa1-8e20-80bf7336d078"
      },
      "cell_type": "code",
      "source": [
        "df4\n",
        "df4.fillna(0) # null 값을 0으로 채운다\n",
        "\n",
        "df3\n",
        "df3.dropna() # null값을 drop한다\n",
        "df3"
      ],
      "execution_count": 0,
      "outputs": [
        {
          "output_type": "execute_result",
          "data": {
            "text/html": [
              "<div>\n",
              "<style scoped>\n",
              "    .dataframe tbody tr th:only-of-type {\n",
              "        vertical-align: middle;\n",
              "    }\n",
              "\n",
              "    .dataframe tbody tr th {\n",
              "        vertical-align: top;\n",
              "    }\n",
              "\n",
              "    .dataframe thead th {\n",
              "        text-align: right;\n",
              "    }\n",
              "</style>\n",
              "<table border=\"1\" class=\"dataframe\">\n",
              "  <thead>\n",
              "    <tr style=\"text-align: right;\">\n",
              "      <th></th>\n",
              "      <th>one</th>\n",
              "      <th>two</th>\n",
              "      <th>three</th>\n",
              "    </tr>\n",
              "  </thead>\n",
              "  <tbody>\n",
              "    <tr>\n",
              "      <th>a</th>\n",
              "      <td>0.876131</td>\n",
              "      <td>0.712055</td>\n",
              "      <td>0.430415</td>\n",
              "    </tr>\n",
              "    <tr>\n",
              "      <th>b</th>\n",
              "      <td>NaN</td>\n",
              "      <td>NaN</td>\n",
              "      <td>NaN</td>\n",
              "    </tr>\n",
              "    <tr>\n",
              "      <th>c</th>\n",
              "      <td>0.172872</td>\n",
              "      <td>0.110986</td>\n",
              "      <td>0.892793</td>\n",
              "    </tr>\n",
              "    <tr>\n",
              "      <th>d</th>\n",
              "      <td>NaN</td>\n",
              "      <td>NaN</td>\n",
              "      <td>NaN</td>\n",
              "    </tr>\n",
              "    <tr>\n",
              "      <th>e</th>\n",
              "      <td>0.258826</td>\n",
              "      <td>0.941913</td>\n",
              "      <td>0.018408</td>\n",
              "    </tr>\n",
              "    <tr>\n",
              "      <th>f</th>\n",
              "      <td>0.075630</td>\n",
              "      <td>0.385383</td>\n",
              "      <td>0.600466</td>\n",
              "    </tr>\n",
              "    <tr>\n",
              "      <th>g</th>\n",
              "      <td>NaN</td>\n",
              "      <td>NaN</td>\n",
              "      <td>NaN</td>\n",
              "    </tr>\n",
              "    <tr>\n",
              "      <th>h</th>\n",
              "      <td>0.110175</td>\n",
              "      <td>0.099473</td>\n",
              "      <td>0.184373</td>\n",
              "    </tr>\n",
              "  </tbody>\n",
              "</table>\n",
              "</div>"
            ],
            "text/plain": [
              "        one       two     three\n",
              "a  0.876131  0.712055  0.430415\n",
              "b       NaN       NaN       NaN\n",
              "c  0.172872  0.110986  0.892793\n",
              "d       NaN       NaN       NaN\n",
              "e  0.258826  0.941913  0.018408\n",
              "f  0.075630  0.385383  0.600466\n",
              "g       NaN       NaN       NaN\n",
              "h  0.110175  0.099473  0.184373"
            ]
          },
          "metadata": {
            "tags": []
          },
          "execution_count": 53
        }
      ]
    }
  ]
}