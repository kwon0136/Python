{
  "nbformat": 4,
  "nbformat_minor": 0,
  "metadata": {
    "colab": {
      "name": "review.ipynb",
      "version": "0.3.2",
      "provenance": [],
      "include_colab_link": true
    },
    "language_info": {
      "codemirror_mode": {
        "name": "ipython",
        "version": 3
      },
      "file_extension": ".py",
      "mimetype": "text/x-python",
      "name": "python",
      "nbconvert_exporter": "python",
      "pygments_lexer": "ipython3",
      "version": "3.7.1"
    },
    "kernelspec": {
      "display_name": "Python 3",
      "language": "python",
      "name": "python3"
    }
  },
  "cells": [
    {
      "cell_type": "markdown",
      "metadata": {
        "id": "view-in-github",
        "colab_type": "text"
      },
      "source": [
        "<a href=\"https://colab.research.google.com/github/kwon0136/Python/blob/master/190225/review.ipynb\" target=\"_parent\"><img src=\"https://colab.research.google.com/assets/colab-badge.svg\" alt=\"Open In Colab\"/></a>"
      ]
    },
    {
      "metadata": {
        "id": "VsimbSFLs8IP",
        "colab_type": "code",
        "colab": {},
        "outputId": "f898f6f1-f1e8-4977-ad15-3383dd723886"
      },
      "cell_type": "code",
      "source": [
        "import pandas as pd\n",
        "\n",
        "df = pd.DataFrame([1,2,3,4])\n",
        "df.columns\n",
        "df.index\n",
        "df.values\n",
        "\n",
        "df2 = pd.DataFrame([100,200,300], columns=['a'], index=['one','two','three'])\n",
        "df3 = pd.DataFrame([[100,200,300],[400,500,600]], columns=['a','b','c'], index=['one','two'])\n",
        "#print(df3)\n",
        "df3=df3.reindex(index=['two','one'])\n",
        "print(df3)\n",
        "\n",
        "df3 = df3.reindex(columns=['a','c','b'])\n",
        "print(df3)\n",
        "\n",
        "df3.drop(['a'], axis=1)\n",
        "df3.drop(['one'], axis=0)\n",
        "\n",
        "df3.ix[0] # ix --> loc, iloc\n",
        "\n",
        "\n",
        "## Panel\n",
        "# pandas.Panel(data, items, major_axis, minor_axis, dtype)"
      ],
      "execution_count": 0,
      "outputs": [
        {
          "output_type": "stream",
          "text": [
            "       a    b    c\n",
            "two  400  500  600\n",
            "one  100  200  300\n",
            "       a    c    b\n",
            "two  400  600  500\n",
            "one  100  300  200\n"
          ],
          "name": "stdout"
        },
        {
          "output_type": "stream",
          "text": [
            "C:\\Users\\Administrator\\Anaconda3\\lib\\site-packages\\ipykernel_launcher.py:19: DeprecationWarning: \n",
            ".ix is deprecated. Please use\n",
            ".loc for label based indexing or\n",
            ".iloc for positional indexing\n",
            "\n",
            "See the documentation here:\n",
            "http://pandas.pydata.org/pandas-docs/stable/indexing.html#ix-indexer-is-deprecated\n"
          ],
          "name": "stderr"
        },
        {
          "output_type": "execute_result",
          "data": {
            "text/plain": [
              "a    400\n",
              "c    600\n",
              "b    500\n",
              "Name: two, dtype: int64"
            ]
          },
          "metadata": {
            "tags": []
          },
          "execution_count": 20
        }
      ]
    }
  ]
}