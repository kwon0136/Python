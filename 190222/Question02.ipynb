{
  "nbformat": 4,
  "nbformat_minor": 0,
  "metadata": {
    "colab": {
      "name": "Question02.ipynb",
      "version": "0.3.2",
      "provenance": [],
      "include_colab_link": true
    },
    "kernelspec": {
      "display_name": "Python 3",
      "language": "python",
      "name": "python3"
    }
  },
  "cells": [
    {
      "cell_type": "markdown",
      "metadata": {
        "id": "view-in-github",
        "colab_type": "text"
      },
      "source": [
        "<a href=\"https://colab.research.google.com/github/kwon0136/Python/blob/master/190222/Question02.ipynb\" target=\"_parent\"><img src=\"https://colab.research.google.com/assets/colab-badge.svg\" alt=\"Open In Colab\"/></a>"
      ]
    },
    {
      "metadata": {
        "id": "R0M3MBZgSwek",
        "colab_type": "code",
        "colab": {},
        "outputId": "2fbcb1d8-e96f-4db2-ee0c-0a0b0695000c"
      },
      "cell_type": "code",
      "source": [
        "from bs4 import BeautifulSoup\n",
        "import pandas as pd\n",
        "\n",
        "import urllib.request\n",
        "import urllib.parse\n",
        "\n",
        "url = 'https://www1.president.go.kr/petitions'\n",
        "with urllib.request.urlopen(url) as response:\n",
        "    html = response.read()\n",
        "    soup = BeautifulSoup(html, 'html.parser')\n",
        "\n",
        "board_text = soup.find_all(\"div\",{\"class\": \"board text\"})\n",
        "bl_body = board_text[1].find(\"div\", {\"class\": \"bl_body\"})\n",
        "titles = bl_body.find_all(\"div\", {\"class\":\"bl_subject\"})\n",
        "agrees = bl_body.find_all(\"div\", {\"class\":\"bl_agree cb \"})\n",
        "#print(len(titles), len(agrees))\n",
        "title  = bl_body.find_all(\"div\", {\"class\":\"bl_subject\"})[0].text\n",
        "agree = bl_body.find_all(\"div\", {\"class\":\"bl_agree cb \"})[0].text\n",
        "#print(title, agree)\n",
        "for i in range(len(titles)):\n",
        "    print(bl_body.find_all(\"div\", {\"class\":\"bl_subject\"})[i].text, \n",
        "          bl_body.find_all(\"div\", {\"class\":\"bl_agree cb \"})[i].text)\n",
        "    \n",
        "# https://www1.president.go.kr/petitions\n",
        "# 청원수가 1명이상인것을 추출하시오."
      ],
      "execution_count": 0,
      "outputs": [
        {
          "output_type": "stream",
          "text": [
            "15 15\n",
            "\n",
            "제목 국회의원 수 감축 부탁드립다\n",
            " \n",
            "참여인원 0명\r\n",
            "\t\t\t\t\t\t\t\t\t\t\t\n",
            "\n",
            "제목 담배좀 팔지 말아주세요\n",
            " \n",
            "참여인원 1명\r\n",
            "\t\t\t\t\t\t\t\t\t\t\t\n",
            "\n",
            "제목 외국인 단속 강화좀 하세요\n",
            " \n",
            "참여인원 0명\r\n",
            "\t\t\t\t\t\t\t\t\t\t\t\n",
            "\n",
            "제목 공유숙박업 법제화를 강력히 반대합니다!\n",
            " \n",
            "참여인원 0명\r\n",
            "\t\t\t\t\t\t\t\t\t\t\t\n",
            "\n",
            "제목 SBS뉴스 뇌암치료의길이 열렸다..의 지속적인 보도와 ...\n",
            " \n",
            "참여인원 0명\r\n",
            "\t\t\t\t\t\t\t\t\t\t\t\n",
            "\n",
            "제목 불법사이트\n",
            " \n",
            "참여인원 0명\r\n",
            "\t\t\t\t\t\t\t\t\t\t\t\n",
            "\n",
            "제목 쓸데없는 청원 좀 안올라오게 해주세요.\n",
            " \n",
            "참여인원 0명\r\n",
            "\t\t\t\t\t\t\t\t\t\t\t\n",
            "\n",
            "제목 불법음란사이트 아직도 넘쳐납니다 전부없애주세요\n",
            " \n",
            "참여인원 0명\r\n",
            "\t\t\t\t\t\t\t\t\t\t\t\n",
            "\n",
            "제목 한동근 교수 연구팀이 진행하는 콩팥 재생 연구에 국 ...\n",
            " \n",
            "참여인원 8명\r\n",
            "\t\t\t\t\t\t\t\t\t\t\t\n",
            "\n",
            "제목 악의 근원 여성가족부의 폐지를 촉구하는 바입니다\n",
            " \n",
            "참여인원 4명\r\n",
            "\t\t\t\t\t\t\t\t\t\t\t\n",
            "\n",
            "제목 생리대 계속 허용하자\n",
            " \n",
            "참여인원 1명\r\n",
            "\t\t\t\t\t\t\t\t\t\t\t\n",
            "\n",
            "제목 장난 식으로 하는 청원들 다 삭제 해주세요.\n",
            " \n",
            "참여인원 2명\r\n",
            "\t\t\t\t\t\t\t\t\t\t\t\n",
            "\n",
            "제목 **고 반 편성을 다시해주세요\n",
            " \n",
            "참여인원 0명\r\n",
            "\t\t\t\t\t\t\t\t\t\t\t\n",
            "\n",
            "제목 숙박업계도 숨 좀 쉬게 해 주십시오!\n",
            " \n",
            "참여인원 1명\r\n",
            "\t\t\t\t\t\t\t\t\t\t\t\n",
            "\n",
            "제목 소송사기 사건을 19개 검사실을 돌려 진실을 밝히고도 ...\n",
            " \n",
            "참여인원 2명\r\n",
            "\t\t\t\t\t\t\t\t\t\t\t\n"
          ],
          "name": "stdout"
        }
      ]
    },
    {
      "metadata": {
        "id": "Fk4Bf7cCSwet",
        "colab_type": "code",
        "colab": {}
      },
      "cell_type": "code",
      "source": [
        ""
      ],
      "execution_count": 0,
      "outputs": []
    }
  ]
}