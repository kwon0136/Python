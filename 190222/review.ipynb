{
  "nbformat": 4,
  "nbformat_minor": 0,
  "metadata": {
    "colab": {
      "name": "review.ipynb",
      "version": "0.3.2",
      "provenance": [],
      "include_colab_link": true
    },
    "kernelspec": {
      "display_name": "Python 3",
      "language": "python",
      "name": "python3"
    }
  },
  "cells": [
    {
      "cell_type": "markdown",
      "metadata": {
        "id": "view-in-github",
        "colab_type": "text"
      },
      "source": [
        "<a href=\"https://colab.research.google.com/github/kwon0136/Python/blob/master/190222/review.ipynb\" target=\"_parent\"><img src=\"https://colab.research.google.com/assets/colab-badge.svg\" alt=\"Open In Colab\"/></a>"
      ]
    },
    {
      "metadata": {
        "id": "lKkhBojvSeIP",
        "colab_type": "code",
        "colab": {},
        "outputId": "3ab6ab8d-0d50-4dfe-c5f9-7f67bb5f8433"
      },
      "cell_type": "code",
      "source": [
        "# pandas.Series(data, index, dtype)\n",
        "def test(a=1, b=0):\n",
        "    return a+b\n",
        "test(1,2)\n",
        "\n",
        "import pandas as pd\n",
        "import numpy as np\n",
        "d = pd.Series([1,2,3])\n",
        "n = np.array([1,2,3])\n",
        "d1 = pd.Series(n)\n",
        "d2 = pd.Series([1,2,3], index=['one','two','three'])\n",
        "d3 = pd.Series(data=[1,2,3], index=['one','two','three'], dtype=np.int)\n",
        "\n",
        "d3[0]\n",
        "d3['one']\n",
        "\n",
        "d3[0] = 100\n",
        "d3\n",
        "type(d3)\n",
        "type(d3[0])\n",
        "\n",
        "dic = {'a':1, 'b':2}\n",
        "d4 = pd.Series(data=dic, index=['b','a'])\n",
        "d4\n",
        "d4[-1]\n",
        "d4[-1:]"
      ],
      "execution_count": 0,
      "outputs": [
        {
          "output_type": "execute_result",
          "data": {
            "text/plain": [
              "a    1\n",
              "dtype: int64"
            ]
          },
          "metadata": {
            "tags": []
          },
          "execution_count": 20
        }
      ]
    },
    {
      "metadata": {
        "id": "uht-gakASeIX",
        "colab_type": "code",
        "colab": {},
        "outputId": "2200a0b9-7af8-4af1-bceb-20a14a55b1c7"
      },
      "cell_type": "code",
      "source": [
        "# pandas.DataFrame(data, index, columns, dtype)\n",
        "# list, dict, Series, numpy, ndarray등을 활용 가능\n",
        "\n",
        "import pandas as pd\n",
        "df = pd.DataFrame([1,2,3,4]) # --> 2차원(row:4, column:1)\n",
        "df.ndim\n",
        "\n",
        "df2 = pd.DataFrame([[1,2,3,4],[5,6,7,8]])\n",
        "df2\n",
        "\n",
        "df3 = pd.DataFrame([[1,2,3,4],[5,6,7,8]], index=['one','two'], columns=['a','b','c','d'])\n",
        "df3\n",
        "\n",
        "# column selection\n",
        "df3['a']\n",
        "df3[['a','b']]\n",
        "df3['e'] = [1,2]\n",
        "df3\n",
        "\n",
        "#d4 = pd.Series([3,4])\n",
        "#df3['f'] = d4\n",
        "#df3\n",
        "\n",
        "del df3['e']\n",
        "df3\n",
        "df3.iloc[0, 0]\n",
        "df3.iloc[:, 0]\n",
        "df3.iloc[:, [0, 2, 3]]  # column selection\n",
        "\n",
        "df3.loc['one', 'a'] # labelling된 것 가져오기\n",
        "df3.loc[['one','two'], 'a']"
      ],
      "execution_count": 0,
      "outputs": [
        {
          "output_type": "execute_result",
          "data": {
            "text/plain": [
              "one    1\n",
              "two    5\n",
              "Name: a, dtype: int64"
            ]
          },
          "metadata": {
            "tags": []
          },
          "execution_count": 42
        }
      ]
    },
    {
      "metadata": {
        "id": "DjKoqzTqSeIb",
        "colab_type": "code",
        "colab": {}
      },
      "cell_type": "code",
      "source": [
        ""
      ],
      "execution_count": 0,
      "outputs": []
    },
    {
      "metadata": {
        "id": "iSJpqtkJSeId",
        "colab_type": "code",
        "colab": {}
      },
      "cell_type": "code",
      "source": [
        ""
      ],
      "execution_count": 0,
      "outputs": []
    },
    {
      "metadata": {
        "id": "tbMHk_QzSeIf",
        "colab_type": "code",
        "colab": {}
      },
      "cell_type": "code",
      "source": [
        ""
      ],
      "execution_count": 0,
      "outputs": []
    },
    {
      "metadata": {
        "id": "NikEdD8TSeIi",
        "colab_type": "code",
        "colab": {}
      },
      "cell_type": "code",
      "source": [
        ""
      ],
      "execution_count": 0,
      "outputs": []
    },
    {
      "metadata": {
        "id": "V3eF8WQQSeIk",
        "colab_type": "code",
        "colab": {}
      },
      "cell_type": "code",
      "source": [
        ""
      ],
      "execution_count": 0,
      "outputs": []
    },
    {
      "metadata": {
        "id": "hlBwgtvVSeIn",
        "colab_type": "code",
        "colab": {}
      },
      "cell_type": "code",
      "source": [
        ""
      ],
      "execution_count": 0,
      "outputs": []
    },
    {
      "metadata": {
        "id": "k8iyYNdMSeIq",
        "colab_type": "code",
        "colab": {}
      },
      "cell_type": "code",
      "source": [
        ""
      ],
      "execution_count": 0,
      "outputs": []
    },
    {
      "metadata": {
        "id": "xmu0r7KcSeIu",
        "colab_type": "code",
        "colab": {}
      },
      "cell_type": "code",
      "source": [
        ""
      ],
      "execution_count": 0,
      "outputs": []
    },
    {
      "metadata": {
        "id": "MdlAbNLLSeIz",
        "colab_type": "code",
        "colab": {}
      },
      "cell_type": "code",
      "source": [
        ""
      ],
      "execution_count": 0,
      "outputs": []
    },
    {
      "metadata": {
        "id": "s2bRKLeaSeI1",
        "colab_type": "code",
        "colab": {}
      },
      "cell_type": "code",
      "source": [
        ""
      ],
      "execution_count": 0,
      "outputs": []
    },
    {
      "metadata": {
        "id": "i_tekqe4SeI3",
        "colab_type": "code",
        "colab": {}
      },
      "cell_type": "code",
      "source": [
        ""
      ],
      "execution_count": 0,
      "outputs": []
    },
    {
      "metadata": {
        "id": "o_QOH8uNSeI5",
        "colab_type": "code",
        "colab": {}
      },
      "cell_type": "code",
      "source": [
        ""
      ],
      "execution_count": 0,
      "outputs": []
    },
    {
      "metadata": {
        "id": "qlMlHrNxSeI8",
        "colab_type": "code",
        "colab": {}
      },
      "cell_type": "code",
      "source": [
        ""
      ],
      "execution_count": 0,
      "outputs": []
    },
    {
      "metadata": {
        "id": "r6TI3YcqSeI-",
        "colab_type": "code",
        "colab": {}
      },
      "cell_type": "code",
      "source": [
        ""
      ],
      "execution_count": 0,
      "outputs": []
    }
  ]
}